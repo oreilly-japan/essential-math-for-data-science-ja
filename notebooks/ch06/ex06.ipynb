{
  "nbformat": 4,
  "nbformat_minor": 0,
  "metadata": {
    "colab": {
      "provenance": []
    },
    "kernelspec": {
      "name": "python3",
      "display_name": "Python 3"
    },
    "language_info": {
      "name": "python"
    }
  },
  "cells": [
    {
      "cell_type": "markdown",
      "source": [
        "# 6章 ロジスティック回帰と分類"
      ],
      "metadata": {
        "id": "SFc53LMI-SZF"
      }
    },
    {
      "cell_type": "markdown",
      "source": [
        "例6-1 独立変数がひとつのロジスティック関数をPythonで定義した例"
      ],
      "metadata": {
        "id": "Ta-9pPCURBXe"
      }
    },
    {
      "cell_type": "code",
      "execution_count": null,
      "metadata": {
        "id": "nS3bXsfTQttv"
      },
      "outputs": [],
      "source": [
        "import math\n",
        "\n",
        "def predict_probability(x, b0, b1):\n",
        "    p = 1.0 / (1.0 + math.exp(-(b0 + b1 * x)))\n",
        "    return p"
      ]
    },
    {
      "cell_type": "markdown",
      "source": [
        "例6-2 SymPyを使ってロジスティック関数をプロットする例"
      ],
      "metadata": {
        "id": "kwmrtD-4OFNl"
      }
    },
    {
      "cell_type": "code",
      "execution_count": null,
      "metadata": {
        "colab": {
          "base_uri": "https://localhost:8080/",
          "height": 52
        },
        "id": "XG6gMNthOEis",
        "outputId": "69373603-3f31-45d2-fbfa-51e114f51561"
      },
      "outputs": [
        {
          "output_type": "execute_result",
          "data": {
            "text/plain": [
              "1.0/(1.0 + 16.8272567955368*exp(-0.62*x))"
            ],
            "text/latex": "$\\displaystyle \\frac{1.0}{1.0 + 16.8272567955368 e^{- 0.62 x}}$"
          },
          "metadata": {},
          "execution_count": 1
        }
      ],
      "source": [
        "from sympy import *\n",
        "b0, b1, x = symbols('b0 b1 x')\n",
        "\n",
        "p = 1.0 / (1.0 + exp(-(b0 + b1 * x)))\n",
        "\n",
        "p = p.subs(b0,-2.823)\n",
        "p = p.subs(b1, 0.620)\n",
        "p"
      ]
    },
    {
      "cell_type": "code",
      "source": [
        "plot(p);"
      ],
      "metadata": {
        "colab": {
          "base_uri": "https://localhost:8080/",
          "height": 484
        },
        "id": "pWO5QhZdOO2I",
        "outputId": "accf5113-813e-4b81-def0-6c5a03144841"
      },
      "execution_count": null,
      "outputs": [
        {
          "output_type": "display_data",
          "data": {
            "text/plain": [
              "<Figure size 640x480 with 1 Axes>"
            ],
            "image/png": "[encoded data removed]"
          },
          "metadata": {}
        }
      ]
    },
    {
      "cell_type": "markdown",
      "source": [
        "例6-3 scikit-learnで基本的なロジスティック回帰を実行する例"
      ],
      "metadata": {
        "id": "OFbxZFPhQVm0"
      }
    },
    {
      "cell_type": "code",
      "execution_count": null,
      "metadata": {
        "colab": {
          "base_uri": "https://localhost:8080/"
        },
        "id": "NTXUgQavQRVu",
        "outputId": "b8e24c30-ff71-4b07-9f12-f796e92a4420"
      },
      "outputs": [
        {
          "output_type": "stream",
          "name": "stdout",
          "text": [
            "[0.69268939]\n",
            "[-3.17580504]\n"
          ]
        }
      ],
      "source": [
        "import pandas as pd\n",
        "from sklearn.linear_model import LogisticRegression\n",
        "\n",
        "# データを読み込む\n",
        "df = pd.read_csv('https://bit.ly/33ebs2R', delimiter=\",\")\n",
        "\n",
        "# 入力変数（すべての行、最終列を除くすべての列）を抽出する\n",
        "X = df.values[:, :-1]\n",
        "\n",
        "# 出力列（すべての行、最終列）を抽出する\n",
        "Y = df.values[:, -1]\n",
        "\n",
        "# ロジスティック回帰を実行する\n",
        "# （ペナルティをNone）\n",
        "model = LogisticRegression(penalty=None)\n",
        "model.fit(X, Y)\n",
        "\n",
        "# beta1を表示する\n",
        "print(model.coef_.flatten())\n",
        "# beta0を表示する\n",
        "print(model.intercept_.flatten())"
      ]
    },
    {
      "cell_type": "markdown",
      "source": [
        "例6-4 ロジスティック回帰モデルに対してすべてのデータポイントを観測する結合尤度を求める例"
      ],
      "metadata": {
        "id": "PhUWE3nuS7DS"
      }
    },
    {
      "cell_type": "code",
      "execution_count": null,
      "metadata": {
        "id": "1mgeNrTVRaYr",
        "colab": {
          "base_uri": "https://localhost:8080/"
        },
        "outputId": "fa13039e-7781-4610-bfe1-baeb77ab4c41"
      },
      "outputs": [
        {
          "output_type": "execute_result",
          "data": {
            "text/plain": [
              "4.7911179961180726e-05"
            ]
          },
          "metadata": {},
          "execution_count": 1
        }
      ],
      "source": [
        "import math\n",
        "import pandas as pd\n",
        "\n",
        "patient_data = pd.read_csv('https://bit.ly/33ebs2R', delimiter=\",\").itertuples()\n",
        "\n",
        "b0 = -3.17580504\n",
        "b1 = 0.69268939\n",
        "\n",
        "def logistic_function(x):\n",
        "    p = 1.0 / (1.0 + math.exp(-(b0 + b1 * x)))\n",
        "    return p\n",
        "\n",
        "# 結合尤度を求める\n",
        "joint_likelihood = 1.0\n",
        "\n",
        "for p in patient_data:\n",
        "    if p.y == 1.0:\n",
        "        joint_likelihood *= logistic_function(p.x)\n",
        "    elif p.y == 0.0:\n",
        "        joint_likelihood *= (1.0 - logistic_function(p.x))\n",
        "\n",
        "joint_likelihood"
      ]
    },
    {
      "cell_type": "markdown",
      "source": [
        "例6-5 結合尤度の計算を`if`式がない形に小さくまとめる"
      ],
      "metadata": {
        "id": "EgN2SUSC33iQ"
      }
    },
    {
      "cell_type": "code",
      "execution_count": null,
      "metadata": {
        "colab": {
          "base_uri": "https://localhost:8080/"
        },
        "id": "VBmIlXUI31os",
        "outputId": "d2e7e42e-2e66-4997-d47d-a27527ee79cb"
      },
      "outputs": [
        {
          "output_type": "execute_result",
          "data": {
            "text/plain": [
              "4.7911179961180726e-05"
            ]
          },
          "metadata": {},
          "execution_count": 10
        }
      ],
      "source": [
        "import math\n",
        "import pandas as pd\n",
        "\n",
        "patient_data = pd.read_csv('https://bit.ly/33ebs2R', delimiter=\",\").itertuples()\n",
        "\n",
        "b0 = -3.17580504\n",
        "b1 = 0.69268939\n",
        "\n",
        "def logistic_function(x):\n",
        "    p = 1.0 / (1.0 + math.exp(-(b0 + b1 * x)))\n",
        "    return p\n",
        "\n",
        "# 結合尤度を求める\n",
        "joint_likelihood = 1.0\n",
        "\n",
        "for p in patient_data:\n",
        "    joint_likelihood *= logistic_function(p.x) ** p.y * \\\n",
        "                        (1.0 - logistic_function(p.x)) ** (1.0 - p.y)\n",
        "\n",
        "joint_likelihood"
      ]
    },
    {
      "cell_type": "markdown",
      "source": [
        "例6-6 対数の足し算（加法）を使った例"
      ],
      "metadata": {
        "id": "LEzcwNpL8OrH"
      }
    },
    {
      "cell_type": "code",
      "execution_count": null,
      "metadata": {
        "colab": {
          "base_uri": "https://localhost:8080/"
        },
        "id": "xH4CKLlj8NBN",
        "outputId": "ec61e583-d69f-40fe-cade-078f4bdaee11"
      },
      "outputs": [
        {
          "output_type": "execute_result",
          "data": {
            "text/plain": [
              "4.791117996118085e-05"
            ]
          },
          "metadata": {},
          "execution_count": 1
        }
      ],
      "source": [
        "import math\n",
        "import pandas as pd\n",
        "\n",
        "patient_data = pd.read_csv('https://bit.ly/33ebs2R', delimiter=\",\").itertuples()\n",
        "\n",
        "b0 = -3.17580504\n",
        "b1 = 0.69268939\n",
        "\n",
        "def logistic_function(x):\n",
        "    p = 1.0 / (1.0 + math.exp(-(b0 + b1 * x)))\n",
        "    return p\n",
        "\n",
        "# 結合尤度を求める\n",
        "joint_likelihood = 0.0\n",
        "\n",
        "for p in patient_data:\n",
        "    joint_likelihood += math.log(logistic_function(p.x) ** p.y * \\\n",
        "                                 (1.0 - logistic_function(p.x)) ** (1.0 - p.y))\n",
        "\n",
        "joint_likelihood = math.exp(joint_likelihood)\n",
        "joint_likelihood"
      ]
    },
    {
      "cell_type": "markdown",
      "source": [
        "例6-7 SymPyでロジスティック回帰の結合尤度を求める関数の例"
      ],
      "metadata": {
        "id": "rDCmdc8Omz7q"
      }
    },
    {
      "cell_type": "code",
      "execution_count": null,
      "metadata": {
        "colab": {
          "base_uri": "https://localhost:8080/",
          "height": 68
        },
        "id": "OUGKLZ8gmneQ",
        "outputId": "f9f9d70f-a882-4243-a9ec-b0e86a23fce5"
      },
      "outputs": [
        {
          "output_type": "execute_result",
          "data": {
            "text/plain": [
              "Sum(log((1.0/(exp(-b - m*x(i)) + 1.0))**y(i)*(1.0 - 1.0/(exp(-b - m*x(i)) + 1.0))**(1 - y(i))), (i, 0, n))"
            ],
            "text/latex": "$\\displaystyle \\sum_{i=0}^{n} \\log{\\left(\\left(\\frac{1.0}{e^{- b - m x{\\left(i \\right)}} + 1.0}\\right)^{y{\\left(i \\right)}} \\left(1.0 - \\frac{1.0}{e^{- b - m x{\\left(i \\right)}} + 1.0}\\right)^{1 - y{\\left(i \\right)}} \\right)}$"
          },
          "metadata": {},
          "execution_count": 1
        }
      ],
      "source": [
        "from sympy import *\n",
        "\n",
        "m = Symbol('m')\n",
        "b = Symbol('b')\n",
        "x = Function('x')\n",
        "y = Function('y')\n",
        "i = Symbol('i')\n",
        "n = Symbol('n')\n",
        "\n",
        "joint_likelihood = Sum(log((1.0 / (1.0 + exp(-(b + m * x(i)))))**y(i) * \\\n",
        "\t(1.0 - (1.0 / (1.0 + exp(-(b + m * x(i))))))**(1-y(i))), (i, 0, n))\n",
        "\n",
        "joint_likelihood"
      ]
    },
    {
      "cell_type": "markdown",
      "source": [
        "例6-8 ロジスティック回帰に勾配降下法を使う例"
      ],
      "metadata": {
        "id": "7dYWNcDi8gSv"
      }
    },
    {
      "cell_type": "code",
      "execution_count": null,
      "metadata": {
        "colab": {
          "base_uri": "https://localhost:8080/"
        },
        "id": "lohAZ6nv8and",
        "outputId": "fb27b5a5-e81c-427b-c1c2-3697549b8794"
      },
      "outputs": [
        {
          "output_type": "stream",
          "name": "stdout",
          "text": [
            "0.6926693075370812 -3.175751550409821\n"
          ]
        }
      ],
      "source": [
        "from sympy import *\n",
        "import pandas as pd\n",
        "\n",
        "points = list(pd.read_csv(\"https://tinyurl.com/y2cocoo7\").itertuples())\n",
        "\n",
        "b1, b0, i, n = symbols('b1 b0 i n')\n",
        "x, y = symbols('x y', cls=Function)\n",
        "joint_likelihood = Sum(log((1.0 / (1.0 + exp(-(b0 + b1 * x(i))))) ** y(i) \\\n",
        "    * (1.0 - (1.0 / (1.0 + exp(-(b0 + b1 * x(i)))))) ** (1 - y(i))), (i, 0, n))\n",
        "\n",
        "# データの点を代入し、beta1（傾き）の偏微分を求める\n",
        "d_b1 = diff(joint_likelihood, b1) \\\n",
        "           .subs(n, len(points) - 1).doit() \\\n",
        "           .replace(x, lambda i: points[i].x) \\\n",
        "           .replace(y, lambda i: points[i].y)\n",
        "\n",
        "# データの点を代入し、beta0（切片）の偏微分を求める\n",
        "d_b0 = diff(joint_likelihood, b0) \\\n",
        "           .subs(n, len(points) - 1).doit() \\\n",
        "           .replace(x, lambda i: points[i].x) \\\n",
        "           .replace(y, lambda i: points[i].y)\n",
        "\n",
        "# lambdify関数でコンパイルして計算を高速化する\n",
        "d_b1 = lambdify([b1, b0], d_b1)\n",
        "d_b0 = lambdify([b1, b0], d_b0)\n",
        "\n",
        "# 勾配降下法を実行する\n",
        "b1 = 0.01\n",
        "b0 = 0.01\n",
        "L = 0.01\n",
        "\n",
        "for j in range(10_000):\n",
        "    b1 += d_b1(b1, b0) * L\n",
        "    b0 += d_b0(b1, b0) * L\n",
        "\n",
        "print(b1, b0)"
      ]
    },
    {
      "cell_type": "markdown",
      "source": [
        "例6-9 従業員データを使って多変数ロジスティック回帰を実行する例"
      ],
      "metadata": {
        "id": "K03RVYCz87Rv"
      }
    },
    {
      "cell_type": "code",
      "execution_count": null,
      "metadata": {
        "colab": {
          "base_uri": "https://localhost:8080/"
        },
        "id": "r69tUNGK83UA",
        "outputId": "5e8114b9-de4a-47b2-c086-fd3820a93b12"
      },
      "outputs": [
        {
          "name": "stdout",
          "output_type": "stream",
          "text": [
            "COEFFICIENTS: [ 0.03216406  0.03683015 -2.50414078  0.97423186]\n",
            "INTERCEPT: [-2.73503153]\n",
            "Predict employee will stay or leave {sex},         {age},{promotions},{years employed}: 1,34,1,5\n"
          ]
        },
        {
          "output_type": "stream",
          "name": "stderr",
          "text": [
            "/usr/local/lib/python3.11/dist-packages/sklearn/utils/validation.py:2739: UserWarning: X does not have valid feature names, but LogisticRegression was fitted with feature names\n",
            "  warnings.warn(\n",
            "/usr/local/lib/python3.11/dist-packages/sklearn/utils/validation.py:2739: UserWarning: X does not have valid feature names, but LogisticRegression was fitted with feature names\n",
            "  warnings.warn(\n"
          ]
        },
        {
          "output_type": "stream",
          "name": "stdout",
          "text": [
            "WILL LEAVE: [[0.28569689 0.71430311]]\n"
          ]
        }
      ],
      "source": [
        "import pandas as pd\n",
        "from sklearn.linear_model import LogisticRegression\n",
        "\n",
        "employee_data = pd.read_csv(\"https://tinyurl.com/y6r7qjrp\")\n",
        "\n",
        "# 独立変数のカラムを取得する\n",
        "inputs = employee_data.iloc[:, :-1]\n",
        "\n",
        "# 従属変数\"did_quit\"のカラムを取得する\n",
        "output = employee_data.iloc[:, -1]\n",
        "\n",
        "# ロジスティック回帰を構築する\n",
        "fit = LogisticRegression(penalty=None).fit(inputs, output)\n",
        "\n",
        "# 係数を出力する\n",
        "print(\"COEFFICIENTS: {0}\".format(fit.coef_.flatten()))\n",
        "print(\"INTERCEPT: {0}\".format(fit.intercept_.flatten()))\n",
        "\n",
        "# 対話型のUIで新しい従業員のデータに対して予測する\n",
        "def predict_employee_will_stay(sex, age, promotions, years_employed):\n",
        "    prediction = fit.predict([[sex, age, promotions, years_employed]])\n",
        "    probabilities = fit.predict_proba([[sex, age, promotions, years_employed]])\n",
        "    if prediction == [[1]]:\n",
        "        return \"WILL LEAVE: {0}\".format(probabilities)\n",
        "    else:\n",
        "        return \"WILL STAY: {0}\".format(probabilities)\n",
        "\n",
        "# 予測をテストする\n",
        "while True:\n",
        "    n = input(\"Predict employee will stay or leave {sex}, \\\n",
        "        {age},{promotions},{years employed}: \")\n",
        "    (sex, age, promotions, years_employed) = n.split(\",\")\n",
        "    print(predict_employee_will_stay(int(sex), int(age), int(promotions),\n",
        "          int(years_employed)))"
      ]
    },
    {
      "cell_type": "markdown",
      "source": [
        "例6-10 適合度（当てはめ具合）の対数尤度を求める例"
      ],
      "metadata": {
        "id": "EfL21PPMnx9i"
      }
    },
    {
      "cell_type": "code",
      "execution_count": null,
      "metadata": {
        "colab": {
          "base_uri": "https://localhost:8080/"
        },
        "id": "pum9bIXQnuFY",
        "outputId": "ad69156a-e083-4235-fa27-2e3e6576ca3c"
      },
      "outputs": [
        {
          "output_type": "execute_result",
          "data": {
            "text/plain": [
              "-9.946161678669105"
            ]
          },
          "metadata": {},
          "execution_count": 1
        }
      ],
      "source": [
        "from math import log, exp\n",
        "import pandas as pd\n",
        "\n",
        "patient_data = pd.read_csv('https://bit.ly/33ebs2R', delimiter=\",\").itertuples()\n",
        "\n",
        "b0 = -3.17580504\n",
        "b1 = 0.69268939\n",
        "\n",
        "def logistic_function(x):\n",
        "    p = 1.0 / (1.0 + exp(-(b0 + b1 * x)))\n",
        "    return p\n",
        "\n",
        "# 対数尤度を合計する\n",
        "log_likelihood_fit = 0.0\n",
        "\n",
        "for p in patient_data:\n",
        "    if p.y == 1.0:\n",
        "        log_likelihood_fit += log(logistic_function(p.x))\n",
        "    elif p.y == 0.0:\n",
        "        log_likelihood_fit += log(1.0 - logistic_function(p.x))\n",
        "\n",
        "log_likelihood_fit"
      ]
    },
    {
      "cell_type": "markdown",
      "source": [
        "例6-11 対数尤度の処理を1行にまとめた例"
      ],
      "metadata": {
        "id": "C9r-faJOoF7u"
      }
    },
    {
      "cell_type": "code",
      "execution_count": null,
      "metadata": {
        "colab": {
          "base_uri": "https://localhost:8080/"
        },
        "id": "_S1h8LxGoDT3",
        "outputId": "04f858d7-dda3-4190-a75b-593772ace338"
      },
      "outputs": [
        {
          "output_type": "execute_result",
          "data": {
            "text/plain": [
              "-9.946161678669105"
            ]
          },
          "metadata": {},
          "execution_count": 1
        }
      ],
      "source": [
        "from math import log, exp\n",
        "import pandas as pd\n",
        "\n",
        "patient_data = pd.read_csv('https://bit.ly/33ebs2R', delimiter=\",\").itertuples()\n",
        "\n",
        "b0 = -3.17580504\n",
        "b1 = 0.69268939\n",
        "\n",
        "def logistic_function(x):\n",
        "    p = 1.0 / (1.0 + exp(-(b0 + b1 * x)))\n",
        "    return p\n",
        "\n",
        "# 対数尤度を合計する（1行にまとめる）\n",
        "log_likelihood_fit = sum(log(logistic_function(p.x)) * p.y +\n",
        "                         log(1.0 - logistic_function(p.x)) * (1.0 - p.y)\n",
        "                         for p in patient_data)\n",
        "\n",
        "log_likelihood_fit"
      ]
    },
    {
      "cell_type": "markdown",
      "source": [
        "例6-12 患者の対数尤度を求める例"
      ],
      "metadata": {
        "id": "6r5XneXDpNj9"
      }
    },
    {
      "cell_type": "code",
      "execution_count": null,
      "metadata": {
        "colab": {
          "base_uri": "https://localhost:8080/"
        },
        "id": "uS5BEwDqo61y",
        "outputId": "766842fe-6687-439c-bc66-12f79093993f"
      },
      "outputs": [
        {
          "output_type": "execute_result",
          "data": {
            "text/plain": [
              "-14.341070198709906"
            ]
          },
          "metadata": {},
          "execution_count": 1
        }
      ],
      "source": [
        "import pandas as pd\n",
        "from math import log\n",
        "\n",
        "patient_data = list(pd.read_csv('https://bit.ly/33ebs2R', delimiter=\",\") \\\n",
        "     .itertuples())\n",
        "\n",
        "likelihood = sum(p.y for p in patient_data) / len(patient_data)\n",
        "\n",
        "log_likelihood = 0.0\n",
        "\n",
        "for p in patient_data:\n",
        "    if p.y == 1.0:\n",
        "        log_likelihood += log(likelihood)\n",
        "    elif p.y == 0.0:\n",
        "        log_likelihood += log(1.0 - likelihood)\n",
        "\n",
        "log_likelihood"
      ]
    },
    {
      "cell_type": "markdown",
      "source": [
        "例6-13 対数尤度の計算を1行にまとめる例"
      ],
      "metadata": {
        "id": "hlv8seNKqFvX"
      }
    },
    {
      "cell_type": "code",
      "execution_count": null,
      "metadata": {
        "id": "BmxB3rXJqD5l",
        "colab": {
          "base_uri": "https://localhost:8080/"
        },
        "outputId": "79dbd14e-703d-46f2-e89b-a1d5faebc5fc"
      },
      "outputs": [
        {
          "output_type": "execute_result",
          "data": {
            "text/plain": [
              "-14.341070198709906"
            ]
          },
          "metadata": {},
          "execution_count": 1
        }
      ],
      "source": [
        "import pandas as pd\n",
        "from math import log\n",
        "\n",
        "patient_data = list(pd.read_csv('https://bit.ly/33ebs2R', delimiter=\",\") \\\n",
        "     .itertuples())\n",
        "\n",
        "likelihood = sum(p.y for p in patient_data) / len(patient_data)\n",
        "\n",
        "log_likelihood = sum(log(likelihood)*p.y + log(1.0 - likelihood)*(1.0 - p.y) \\\n",
        "    for p in patient_data)\n",
        "\n",
        "log_likelihood"
      ]
    },
    {
      "cell_type": "markdown",
      "source": [
        "例6-14 ロジスティック回帰の$R^2$を求める例"
      ],
      "metadata": {
        "id": "I-060jjDrArD"
      }
    },
    {
      "cell_type": "code",
      "execution_count": null,
      "metadata": {
        "colab": {
          "base_uri": "https://localhost:8080/"
        },
        "id": "8hNOjLLsq8vo",
        "outputId": "f15b7c46-efcd-4bd8-f89e-8059bbbb20fc"
      },
      "outputs": [
        {
          "output_type": "execute_result",
          "data": {
            "text/plain": [
              "-14.341070198709906"
            ]
          },
          "metadata": {},
          "execution_count": 1
        }
      ],
      "source": [
        "import pandas as pd\n",
        "from math import log, exp\n",
        "\n",
        "patient_data = list(pd.read_csv('https://bit.ly/33ebs2R', delimiter=\",\") \\\n",
        "                                .itertuples())\n",
        "\n",
        "# ロジスティック回帰の係数\n",
        "b0 = -3.17580504\n",
        "b1 = 0.69268939\n",
        "\n",
        "def logistic_function(x):\n",
        "    p = 1.0 / (1.0 + exp(-(b0 + b1 * x)))\n",
        "    return p\n",
        "\n",
        "# 適合度の対数尤度を求める\n",
        "log_likelihood_fit = sum(log(logistic_function(p.x)) * p.y +\n",
        "                         log(1.0 - logistic_function(p.x)) * (1.0 - p.y)\n",
        "                         for p in patient_data)\n",
        "\n",
        "# 対数尤度を求める\n",
        "likelihood = sum(p.y for p in patient_data) / len(patient_data)\n",
        "\n",
        "log_likelihood = sum(log(likelihood) * p.y + log(1.0 - likelihood) * (1.0 - p.y) \\\n",
        "    for p in patient_data)\n",
        "log_likelihood"
      ]
    },
    {
      "cell_type": "code",
      "source": [
        "# 決定係数R^2を求める\n",
        "r2 = (log_likelihood - log_likelihood_fit) / log_likelihood\n",
        "r2"
      ],
      "metadata": {
        "id": "NaFN_wHXsad7",
        "colab": {
          "base_uri": "https://localhost:8080/"
        },
        "outputId": "135ead8d-2040-48bb-dcb5-0452b3f5dae1"
      },
      "execution_count": null,
      "outputs": [
        {
          "output_type": "execute_result",
          "data": {
            "text/plain": [
              "0.30645610537741863"
            ]
          },
          "metadata": {},
          "execution_count": 2
        }
      ]
    },
    {
      "cell_type": "markdown",
      "source": [
        "例6-15 ロジスティック回帰のp値を求める例"
      ],
      "metadata": {
        "id": "Dic9VoxQAtCQ"
      }
    },
    {
      "cell_type": "code",
      "execution_count": null,
      "metadata": {
        "colab": {
          "base_uri": "https://localhost:8080/"
        },
        "id": "eiMcV9MeArKe",
        "outputId": "91c67db0-9181-4f9d-c2d4-0a9c723f09a4"
      },
      "outputs": [
        {
          "output_type": "stream",
          "name": "stdout",
          "text": [
            "0.0016604875719315217\n"
          ]
        }
      ],
      "source": [
        "import pandas as pd\n",
        "from math import log, exp\n",
        "from scipy.stats import chi2\n",
        "\n",
        "patient_data = list(pd.read_csv('https://bit.ly/33ebs2R', delimiter=\",\").itertuples())\n",
        "\n",
        "# ロジスティック回帰の係数\n",
        "b0 = -3.17580504\n",
        "b1 = 0.69268939\n",
        "\n",
        "def logistic_function(x):\n",
        "    p = 1.0 / (1.0 + exp(-(b0 + b1 * x)))\n",
        "    return p\n",
        "\n",
        "# 適合度の対数尤度を求める\n",
        "log_likelihood_fit = sum(log(logistic_function(p.x)) * p.y +\n",
        "                         log(1.0 - logistic_function(p.x)) * (1.0 - p.y)\n",
        "                         for p in patient_data)\n",
        "\n",
        "# 対数尤度を求める\n",
        "likelihood = sum(p.y for p in patient_data) / len(patient_data)\n",
        "\n",
        "log_likelihood = sum(log(likelihood) * p.y + log(1.0 - likelihood) * (1.0 - p.y) \\\n",
        "                     for p in patient_data)\n",
        "\n",
        "# p値を求める\n",
        "chi2_input = 2 * (log_likelihood_fit - log_likelihood)\n",
        "p_value = chi2.pdf(chi2_input, 1) # 自由度は1とする（n - 1）\n",
        "\n",
        "print(p_value)"
      ]
    },
    {
      "cell_type": "markdown",
      "source": [
        "例6-16 三分割の交差検証でロジスティック回帰を実行する例"
      ],
      "metadata": {
        "id": "z0KYz3lhBQ4R"
      }
    },
    {
      "cell_type": "code",
      "execution_count": null,
      "metadata": {
        "colab": {
          "base_uri": "https://localhost:8080/"
        },
        "id": "aFtp9WVNBOXH",
        "outputId": "f6991921-b97e-44f1-c6d3-37a3a31b3942"
      },
      "outputs": [
        {
          "output_type": "stream",
          "name": "stdout",
          "text": [
            "Accuracy Mean: 0.611 (stdev=0.000)\n"
          ]
        }
      ],
      "source": [
        "import pandas as pd\n",
        "from sklearn.linear_model import LogisticRegression\n",
        "from sklearn.model_selection import KFold, cross_val_score\n",
        "\n",
        "# データを読み込む\n",
        "df = pd.read_csv(\"https://tinyurl.com/y6r7qjrp\", delimiter=\",\")\n",
        "\n",
        "X = df.values[:, :-1]\n",
        "Y = df.values[:, -1]\n",
        "\n",
        "kfold = KFold(n_splits=3, random_state=7, shuffle=True)\n",
        "model = LogisticRegression(penalty=None)\n",
        "results = cross_val_score(model, X, Y, cv=kfold)\n",
        "\n",
        "print(\"Accuracy Mean: %.3f (stdev=%.3f)\" % (results.mean(), results.std()))"
      ]
    },
    {
      "cell_type": "markdown",
      "source": [
        "例6-17 scikit-learnでテスト用データセットの混同行列を生成する例"
      ],
      "metadata": {
        "id": "CpH4LNGHsuez"
      }
    },
    {
      "cell_type": "code",
      "execution_count": null,
      "metadata": {
        "colab": {
          "base_uri": "https://localhost:8080/"
        },
        "id": "IbzYEn37spKS",
        "outputId": "6158aaaa-0db2-4b21-ea7d-2e48907462ba"
      },
      "outputs": [
        {
          "output_type": "execute_result",
          "data": {
            "text/plain": [
              "array([[6, 3],\n",
              "       [4, 5]])"
            ]
          },
          "metadata": {},
          "execution_count": 4
        }
      ],
      "source": [
        "import pandas as pd\n",
        "from sklearn.linear_model import LogisticRegression\n",
        "from sklearn.metrics import confusion_matrix\n",
        "from sklearn.model_selection import train_test_split\n",
        "\n",
        "# データを読み込む\n",
        "df = pd.read_csv('https://bit.ly/3cManTi', delimiter=\",\")\n",
        "\n",
        "# 入力変数（すべての行、最終列を除くすべての列）を抽出する\n",
        "X = df.values[:, :-1]\n",
        "\n",
        "# 出力列（すべての行、最終列）を抽出する\n",
        "Y = df.values[:, -1]\n",
        "\n",
        "model = LogisticRegression(solver='liblinear')\n",
        "\n",
        "X_train, X_test, Y_train, Y_test = train_test_split(X, Y, test_size=0.33,\n",
        "    random_state=10)\n",
        "model.fit(X_train, Y_train)\n",
        "prediction = model.predict(X_test)\n",
        "\n",
        "\"\"\"\n",
        "混同行列は、それぞれの観点で精度を評価する。\n",
        "[[TP（真陽性） FN（偽陰性）]\n",
        " [FP（偽陽性） TN（真陰性）]]\n",
        "\n",
        "左上から右下の対角線上の値は、予測が正しいことを示すため、\n",
        "高いほどよい。\n",
        "\"\"\"\n",
        "matrix = confusion_matrix(y_true=Y_test, y_pred=prediction)\n",
        "matrix\n"
      ]
    },
    {
      "cell_type": "code",
      "source": [
        "matrix_df = pd.DataFrame(matrix, index=['Actual Positive', 'Actual Negative'], columns=['Predicted Positive', 'Predicted Negative'])\n",
        "matrix_df"
      ],
      "metadata": {
        "colab": {
          "base_uri": "https://localhost:8080/",
          "height": 125
        },
        "id": "B4pcLm_EsuDv",
        "outputId": "f4974929-ca3c-4a4f-fea6-e22accab945a"
      },
      "execution_count": null,
      "outputs": [
        {
          "output_type": "execute_result",
          "data": {
            "text/plain": [
              "                 Predicted Positive  Predicted Negative\n",
              "Actual Positive                   6                   3\n",
              "Actual Negative                   4                   5"
            ],
            "text/html": [
              "\n",
              "  <div id=\"df-6583ffd9-971a-4cc0-b9a7-848387a0d081\" class=\"colab-df-container\">\n",
              "    <div>\n",
              "<style scoped>\n",
              "    .dataframe tbody tr th:only-of-type {\n",
              "        vertical-align: middle;\n",
              "    }\n",
              "\n",
              "    .dataframe tbody tr th {\n",
              "        vertical-align: top;\n",
              "    }\n",
              "\n",
              "    .dataframe thead th {\n",
              "        text-align: right;\n",
              "    }\n",
              "</style>\n",
              "<table border=\"1\" class=\"dataframe\">\n",
              "  <thead>\n",
              "    <tr style=\"text-align: right;\">\n",
              "      <th></th>\n",
              "      <th>Predicted Positive</th>\n",
              "      <th>Predicted Negative</th>\n",
              "    </tr>\n",
              "  </thead>\n",
              "  <tbody>\n",
              "    <tr>\n",
              "      <th>Actual Positive</th>\n",
              "      <td>6</td>\n",
              "      <td>3</td>\n",
              "    </tr>\n",
              "    <tr>\n",
              "      <th>Actual Negative</th>\n",
              "      <td>4</td>\n",
              "      <td>5</td>\n",
              "    </tr>\n",
              "  </tbody>\n",
              "</table>\n",
              "</div>\n",
              "    <div class=\"colab-df-buttons\">\n",
              "\n",
              "  <div class=\"colab-df-container\">\n",
              "    <button class=\"colab-df-convert\" onclick=\"convertToInteractive('df-6583ffd9-971a-4cc0-b9a7-848387a0d081')\"\n",
              "            title=\"Convert this dataframe to an interactive table.\"\n",
              "            style=\"display:none;\">\n",
              "\n",
              "  <svg xmlns=\"http://www.w3.org/2000/svg\" height=\"24px\" viewBox=\"0 -960 960 960\">\n",
              "    <path d=\"M120-120v-720h720v720H120Zm60-500h600v-160H180v160Zm220 220h160v-160H400v160Zm0 220h160v-160H400v160ZM180-400h160v-160H180v160Zm440 0h160v-160H620v160ZM180-180h160v-160H180v160Zm440 0h160v-160H620v160Z\"/>\n",
              "  </svg>\n",
              "    </button>\n",
              "\n",
              "  <style>\n",
              "    .colab-df-container {\n",
              "      display:flex;\n",
              "      gap: 12px;\n",
              "    }\n",
              "\n",
              "    .colab-df-convert {\n",
              "      background-color: #E8F0FE;\n",
              "      border: none;\n",
              "      border-radius: 50%;\n",
              "      cursor: pointer;\n",
              "      display: none;\n",
              "      fill: #1967D2;\n",
              "      height: 32px;\n",
              "      padding: 0 0 0 0;\n",
              "      width: 32px;\n",
              "    }\n",
              "\n",
              "    .colab-df-convert:hover {\n",
              "      background-color: #E2EBFA;\n",
              "      box-shadow: 0px 1px 2px rgba(60, 64, 67, 0.3), 0px 1px 3px 1px rgba(60, 64, 67, 0.15);\n",
              "      fill: #174EA6;\n",
              "    }\n",
              "\n",
              "    .colab-df-buttons div {\n",
              "      margin-bottom: 4px;\n",
              "    }\n",
              "\n",
              "    [theme=dark] .colab-df-convert {\n",
              "      background-color: #3B4455;\n",
              "      fill: #D2E3FC;\n",
              "    }\n",
              "\n",
              "    [theme=dark] .colab-df-convert:hover {\n",
              "      background-color: #434B5C;\n",
              "      box-shadow: 0px 1px 3px 1px rgba(0, 0, 0, 0.15);\n",
              "      filter: drop-shadow(0px 1px 2px rgba(0, 0, 0, 0.3));\n",
              "      fill: #FFFFFF;\n",
              "    }\n",
              "  </style>\n",
              "\n",
              "    <script>\n",
              "      const buttonEl =\n",
              "        document.querySelector('#df-6583ffd9-971a-4cc0-b9a7-848387a0d081 button.colab-df-convert');\n",
              "      buttonEl.style.display =\n",
              "        google.colab.kernel.accessAllowed ? 'block' : 'none';\n",
              "\n",
              "      async function convertToInteractive(key) {\n",
              "        const element = document.querySelector('#df-6583ffd9-971a-4cc0-b9a7-848387a0d081');\n",
              "        const dataTable =\n",
              "          await google.colab.kernel.invokeFunction('convertToInteractive',\n",
              "                                                    [key], {});\n",
              "        if (!dataTable) return;\n",
              "\n",
              "        const docLinkHtml = 'Like what you see? Visit the ' +\n",
              "          '<a target=\"_blank\" href=https://colab.research.google.com/notebooks/data_table.ipynb>data table notebook</a>'\n",
              "          + ' to learn more about interactive tables.';\n",
              "        element.innerHTML = '';\n",
              "        dataTable['output_type'] = 'display_data';\n",
              "        await google.colab.output.renderOutput(dataTable, element);\n",
              "        const docLink = document.createElement('div');\n",
              "        docLink.innerHTML = docLinkHtml;\n",
              "        element.appendChild(docLink);\n",
              "      }\n",
              "    </script>\n",
              "  </div>\n",
              "\n",
              "\n",
              "<div id=\"df-4bfdf6de-a6b5-4b10-90b8-98d6f3d237c5\">\n",
              "  <button class=\"colab-df-quickchart\" onclick=\"quickchart('df-4bfdf6de-a6b5-4b10-90b8-98d6f3d237c5')\"\n",
              "            title=\"Suggest charts\"\n",
              "            style=\"display:none;\">\n",
              "\n",
              "<svg xmlns=\"http://www.w3.org/2000/svg\" height=\"24px\"viewBox=\"0 0 24 24\"\n",
              "     width=\"24px\">\n",
              "    <g>\n",
              "        <path d=\"M19 3H5c-1.1 0-2 .9-2 2v14c0 1.1.9 2 2 2h14c1.1 0 2-.9 2-2V5c0-1.1-.9-2-2-2zM9 17H7v-7h2v7zm4 0h-2V7h2v10zm4 0h-2v-4h2v4z\"/>\n",
              "    </g>\n",
              "</svg>\n",
              "  </button>\n",
              "\n",
              "<style>\n",
              "  .colab-df-quickchart {\n",
              "      --bg-color: #E8F0FE;\n",
              "      --fill-color: #1967D2;\n",
              "      --hover-bg-color: #E2EBFA;\n",
              "      --hover-fill-color: #174EA6;\n",
              "      --disabled-fill-color: #AAA;\n",
              "      --disabled-bg-color: #DDD;\n",
              "  }\n",
              "\n",
              "  [theme=dark] .colab-df-quickchart {\n",
              "      --bg-color: #3B4455;\n",
              "      --fill-color: #D2E3FC;\n",
              "      --hover-bg-color: #434B5C;\n",
              "      --hover-fill-color: #FFFFFF;\n",
              "      --disabled-bg-color: #3B4455;\n",
              "      --disabled-fill-color: #666;\n",
              "  }\n",
              "\n",
              "  .colab-df-quickchart {\n",
              "    background-color: var(--bg-color);\n",
              "    border: none;\n",
              "    border-radius: 50%;\n",
              "    cursor: pointer;\n",
              "    display: none;\n",
              "    fill: var(--fill-color);\n",
              "    height: 32px;\n",
              "    padding: 0;\n",
              "    width: 32px;\n",
              "  }\n",
              "\n",
              "  .colab-df-quickchart:hover {\n",
              "    background-color: var(--hover-bg-color);\n",
              "    box-shadow: 0 1px 2px rgba(60, 64, 67, 0.3), 0 1px 3px 1px rgba(60, 64, 67, 0.15);\n",
              "    fill: var(--button-hover-fill-color);\n",
              "  }\n",
              "\n",
              "  .colab-df-quickchart-complete:disabled,\n",
              "  .colab-df-quickchart-complete:disabled:hover {\n",
              "    background-color: var(--disabled-bg-color);\n",
              "    fill: var(--disabled-fill-color);\n",
              "    box-shadow: none;\n",
              "  }\n",
              "\n",
              "  .colab-df-spinner {\n",
              "    border: 2px solid var(--fill-color);\n",
              "    border-color: transparent;\n",
              "    border-bottom-color: var(--fill-color);\n",
              "    animation:\n",
              "      spin 1s steps(1) infinite;\n",
              "  }\n",
              "\n",
              "  @keyframes spin {\n",
              "    0% {\n",
              "      border-color: transparent;\n",
              "      border-bottom-color: var(--fill-color);\n",
              "      border-left-color: var(--fill-color);\n",
              "    }\n",
              "    20% {\n",
              "      border-color: transparent;\n",
              "      border-left-color: var(--fill-color);\n",
              "      border-top-color: var(--fill-color);\n",
              "    }\n",
              "    30% {\n",
              "      border-color: transparent;\n",
              "      border-left-color: var(--fill-color);\n",
              "      border-top-color: var(--fill-color);\n",
              "      border-right-color: var(--fill-color);\n",
              "    }\n",
              "    40% {\n",
              "      border-color: transparent;\n",
              "      border-right-color: var(--fill-color);\n",
              "      border-top-color: var(--fill-color);\n",
              "    }\n",
              "    60% {\n",
              "      border-color: transparent;\n",
              "      border-right-color: var(--fill-color);\n",
              "    }\n",
              "    80% {\n",
              "      border-color: transparent;\n",
              "      border-right-color: var(--fill-color);\n",
              "      border-bottom-color: var(--fill-color);\n",
              "    }\n",
              "    90% {\n",
              "      border-color: transparent;\n",
              "      border-bottom-color: var(--fill-color);\n",
              "    }\n",
              "  }\n",
              "</style>\n",
              "\n",
              "  <script>\n",
              "    async function quickchart(key) {\n",
              "      const quickchartButtonEl =\n",
              "        document.querySelector('#' + key + ' button');\n",
              "      quickchartButtonEl.disabled = true;  // To prevent multiple clicks.\n",
              "      quickchartButtonEl.classList.add('colab-df-spinner');\n",
              "      try {\n",
              "        const charts = await google.colab.kernel.invokeFunction(\n",
              "            'suggestCharts', [key], {});\n",
              "      } catch (error) {\n",
              "        console.error('Error during call to suggestCharts:', error);\n",
              "      }\n",
              "      quickchartButtonEl.classList.remove('colab-df-spinner');\n",
              "      quickchartButtonEl.classList.add('colab-df-quickchart-complete');\n",
              "    }\n",
              "    (() => {\n",
              "      let quickchartButtonEl =\n",
              "        document.querySelector('#df-4bfdf6de-a6b5-4b10-90b8-98d6f3d237c5 button');\n",
              "      quickchartButtonEl.style.display =\n",
              "        google.colab.kernel.accessAllowed ? 'block' : 'none';\n",
              "    })();\n",
              "  </script>\n",
              "</div>\n",
              "\n",
              "  <div id=\"id_947cbb61-3bf5-4189-bd73-7d7462b0ee4c\">\n",
              "    <style>\n",
              "      .colab-df-generate {\n",
              "        background-color: #E8F0FE;\n",
              "        border: none;\n",
              "        border-radius: 50%;\n",
              "        cursor: pointer;\n",
              "        display: none;\n",
              "        fill: #1967D2;\n",
              "        height: 32px;\n",
              "        padding: 0 0 0 0;\n",
              "        width: 32px;\n",
              "      }\n",
              "\n",
              "      .colab-df-generate:hover {\n",
              "        background-color: #E2EBFA;\n",
              "        box-shadow: 0px 1px 2px rgba(60, 64, 67, 0.3), 0px 1px 3px 1px rgba(60, 64, 67, 0.15);\n",
              "        fill: #174EA6;\n",
              "      }\n",
              "\n",
              "      [theme=dark] .colab-df-generate {\n",
              "        background-color: #3B4455;\n",
              "        fill: #D2E3FC;\n",
              "      }\n",
              "\n",
              "      [theme=dark] .colab-df-generate:hover {\n",
              "        background-color: #434B5C;\n",
              "        box-shadow: 0px 1px 3px 1px rgba(0, 0, 0, 0.15);\n",
              "        filter: drop-shadow(0px 1px 2px rgba(0, 0, 0, 0.3));\n",
              "        fill: #FFFFFF;\n",
              "      }\n",
              "    </style>\n",
              "    <button class=\"colab-df-generate\" onclick=\"generateWithVariable('matrix_df')\"\n",
              "            title=\"Generate code using this dataframe.\"\n",
              "            style=\"display:none;\">\n",
              "\n",
              "  <svg xmlns=\"http://www.w3.org/2000/svg\" height=\"24px\"viewBox=\"0 0 24 24\"\n",
              "       width=\"24px\">\n",
              "    <path d=\"M7,19H8.4L18.45,9,17,7.55,7,17.6ZM5,21V16.75L18.45,3.32a2,2,0,0,1,2.83,0l1.4,1.43a1.91,1.91,0,0,1,.58,1.4,1.91,1.91,0,0,1-.58,1.4L9.25,21ZM18.45,9,17,7.55Zm-12,3A5.31,5.31,0,0,0,4.9,8.1,5.31,5.31,0,0,0,1,6.5,5.31,5.31,0,0,0,4.9,4.9,5.31,5.31,0,0,0,6.5,1,5.31,5.31,0,0,0,8.1,4.9,5.31,5.31,0,0,0,12,6.5,5.46,5.46,0,0,0,6.5,12Z\"/>\n",
              "  </svg>\n",
              "    </button>\n",
              "    <script>\n",
              "      (() => {\n",
              "      const buttonEl =\n",
              "        document.querySelector('#id_947cbb61-3bf5-4189-bd73-7d7462b0ee4c button.colab-df-generate');\n",
              "      buttonEl.style.display =\n",
              "        google.colab.kernel.accessAllowed ? 'block' : 'none';\n",
              "\n",
              "      buttonEl.onclick = () => {\n",
              "        google.colab.notebook.generateWithVariable('matrix_df');\n",
              "      }\n",
              "      })();\n",
              "    </script>\n",
              "  </div>\n",
              "\n",
              "    </div>\n",
              "  </div>\n"
            ],
            "application/vnd.google.colaboratory.intrinsic+json": {
              "type": "dataframe",
              "variable_name": "matrix_df",
              "summary": "{\n  \"name\": \"matrix_df\",\n  \"rows\": 2,\n  \"fields\": [\n    {\n      \"column\": \"Predicted Positive\",\n      \"properties\": {\n        \"dtype\": \"number\",\n        \"std\": 1,\n        \"min\": 4,\n        \"max\": 6,\n        \"num_unique_values\": 2,\n        \"samples\": [\n          4,\n          6\n        ],\n        \"semantic_type\": \"\",\n        \"description\": \"\"\n      }\n    },\n    {\n      \"column\": \"Predicted Negative\",\n      \"properties\": {\n        \"dtype\": \"number\",\n        \"std\": 1,\n        \"min\": 3,\n        \"max\": 5,\n        \"num_unique_values\": 2,\n        \"samples\": [\n          5,\n          3\n        ],\n        \"semantic_type\": \"\",\n        \"description\": \"\"\n      }\n    }\n  ]\n}"
            }
          },
          "metadata": {},
          "execution_count": 5
        }
      ]
    },
    {
      "cell_type": "markdown",
      "source": [
        "例6-18 scikit-learnでAUCをパラメータに設定する例"
      ],
      "metadata": {
        "id": "oY2QlDc_B2Ll"
      }
    },
    {
      "cell_type": "code",
      "execution_count": null,
      "metadata": {
        "colab": {
          "base_uri": "https://localhost:8080/"
        },
        "id": "PmOxhpmAB0kv",
        "outputId": "3ee30209-c6ba-4aed-9a21-9d8d6456367e"
      },
      "outputs": [
        {
          "output_type": "stream",
          "name": "stdout",
          "text": [
            "AUC: 0.814 (0.056)\n"
          ]
        }
      ],
      "source": [
        "import pandas as pd\n",
        "from sklearn.linear_model import LogisticRegression\n",
        "from sklearn.model_selection import KFold, cross_val_score\n",
        "\n",
        "# データを読み込む\n",
        "df = pd.read_csv(\"https://tinyurl.com/y6r7qjrp\", delimiter=\",\")\n",
        "\n",
        "X = df.values[:, :-1]\n",
        "Y = df.values[:, -1]\n",
        "\n",
        "kfold = KFold(n_splits=3, random_state=7, shuffle=True)\n",
        "model = LogisticRegression(penalty=None)\n",
        "\n",
        "# AUCを使ってスコアリングする\n",
        "results = cross_val_score(model, X, Y, cv=kfold, scoring='roc_auc')\n",
        "print(\"AUC: %.3f (%.3f)\" % (results.mean(), results.std()))"
      ]
    },
    {
      "cell_type": "markdown",
      "source": [
        "例6-19 scikit-learnの`stratify`オプションを使ってクラス分布を維持する例例"
      ],
      "metadata": {
        "id": "2WuYC3ZU1I0r"
      }
    },
    {
      "cell_type": "code",
      "execution_count": null,
      "metadata": {
        "colab": {
          "base_uri": "https://localhost:8080/"
        },
        "id": "qFbh87_q1IUk",
        "outputId": "d5aae6b4-05b7-4e30-d2a2-d75eb72b378e"
      },
      "outputs": [
        {
          "output_type": "stream",
          "name": "stdout",
          "text": [
            "AUC: 0.963\n"
          ]
        }
      ],
      "source": [
        "import pandas as pd\n",
        "from sklearn.linear_model import LogisticRegression\n",
        "from sklearn.metrics import roc_auc_score\n",
        "from sklearn.model_selection import KFold, cross_val_score, train_test_split\n",
        "\n",
        "# データを読み込む\n",
        "df = pd.read_csv(\"https://tinyurl.com/y6r7qjrp\", delimiter=\",\")\n",
        "\n",
        "X = df.values[:, :-1]\n",
        "Y = df.values[:, -1]\n",
        "\n",
        "X_train, X_test, Y_train, Y_test =  \\\n",
        "    train_test_split(X, Y, test_size=0.33, stratify=Y)\n",
        "\n",
        "model = LogisticRegression(penalty=None)\n",
        "model.fit(X_train, Y_train)\n",
        "\n",
        "Y_pred_prob = model.predict_proba(X_test)[:, 1]\n",
        "\n",
        "# AUCを使ってスコアリングする\n",
        "auc_score = roc_auc_score(Y_test, Y_pred_prob)\n",
        "print(\"AUC: %.3f\" % auc_score)"
      ]
    },
    {
      "cell_type": "code",
      "source": [],
      "metadata": {
        "id": "e-QlNrSA3i-h"
      },
      "execution_count": null,
      "outputs": []
    }
  ]
}