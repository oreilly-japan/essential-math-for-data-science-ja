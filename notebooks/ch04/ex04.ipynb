{
  "nbformat": 4,
  "nbformat_minor": 0,
  "metadata": {
    "colab": {
      "provenance": []
    },
    "kernelspec": {
      "name": "python3",
      "display_name": "Python 3"
    },
    "language_info": {
      "name": "python"
    }
  },
  "cells": [
    {
      "cell_type": "markdown",
      "source": [
        "# 4章 線形代数"
      ],
      "metadata": {
        "id": "RQAJheYi0sUV"
      }
    },
    {
      "cell_type": "markdown",
      "source": [
        "例4-1 Pythonでリストを使ってベクトルを宣言する例"
      ],
      "metadata": {
        "id": "3j20SSTvqCBI"
      }
    },
    {
      "cell_type": "code",
      "execution_count": null,
      "metadata": {
        "colab": {
          "base_uri": "https://localhost:8080/"
        },
        "id": "zfB3sg7op-f_",
        "outputId": "19fe594a-2cf0-4eeb-abcb-3969418a6696"
      },
      "outputs": [
        {
          "output_type": "execute_result",
          "data": {
            "text/plain": [
              "[3, 2]"
            ]
          },
          "metadata": {},
          "execution_count": 1
        }
      ],
      "source": [
        "v = [3, 2]\n",
        "v"
      ]
    },
    {
      "cell_type": "markdown",
      "source": [
        "例4-2 NumPyを使ってPythonでベクトルを宣言する例"
      ],
      "metadata": {
        "id": "jpJ9SiVE11P_"
      }
    },
    {
      "cell_type": "code",
      "execution_count": null,
      "metadata": {
        "colab": {
          "base_uri": "https://localhost:8080/"
        },
        "outputId": "1e0d93be-edcd-4b07-be61-b2f75eb087b9",
        "id": "ZJxP7_Sd11QA"
      },
      "outputs": [
        {
          "output_type": "stream",
          "name": "stdout",
          "text": [
            "[3 2]\n"
          ]
        }
      ],
      "source": [
        "import numpy as np\n",
        "v = np.array([3, 2])\n",
        "print(v)"
      ]
    },
    {
      "cell_type": "markdown",
      "source": [
        "例4-3 PythonでNumPyを使って3次元ベクトルを宣言する例"
      ],
      "metadata": {
        "id": "P_1Z1tul1nq_"
      }
    },
    {
      "cell_type": "code",
      "execution_count": null,
      "metadata": {
        "colab": {
          "base_uri": "https://localhost:8080/"
        },
        "outputId": "1d530b01-e384-437f-9093-67cabcd5900b",
        "id": "fYq5R_sp1nq_"
      },
      "outputs": [
        {
          "output_type": "stream",
          "name": "stdout",
          "text": [
            "[4 1 2]\n"
          ]
        }
      ],
      "source": [
        "import numpy as np\n",
        "v = np.array([4, 1, 2])\n",
        "print(v)"
      ]
    },
    {
      "cell_type": "markdown",
      "source": [
        "例4-4 PythonでNumPyを使って5次元のベクトルを宣言する例"
      ],
      "metadata": {
        "id": "pXQCNlmGrEkz"
      }
    },
    {
      "cell_type": "code",
      "execution_count": null,
      "metadata": {
        "colab": {
          "base_uri": "https://localhost:8080/"
        },
        "id": "N0496jHvrDGW",
        "outputId": "1062af05-5960-49dd-a923-e67d6101087e"
      },
      "outputs": [
        {
          "output_type": "stream",
          "name": "stdout",
          "text": [
            "[6 1 5 8 3]\n"
          ]
        }
      ],
      "source": [
        "import numpy as np\n",
        "v = np.array([6, 1, 5, 8, 3])\n",
        "print(v)"
      ]
    },
    {
      "cell_type": "markdown",
      "source": [
        "例4-5 PythonでNumPyを使って2つのベクトルを加算する例"
      ],
      "metadata": {
        "id": "Rj7uFlFgriYQ"
      }
    },
    {
      "cell_type": "code",
      "execution_count": null,
      "metadata": {
        "colab": {
          "base_uri": "https://localhost:8080/"
        },
        "id": "N3j9FZilrgAe",
        "outputId": "5e0b2160-d0be-4805-dcbb-de56185690b1"
      },
      "outputs": [
        {
          "output_type": "stream",
          "name": "stdout",
          "text": [
            "[5 1]\n"
          ]
        }
      ],
      "source": [
        "from numpy import array\n",
        "\n",
        "v = array([3,2])\n",
        "w = array([2,-1])\n",
        "\n",
        "# ベクトルを足し合わせる\n",
        "v_plus_w = v + w\n",
        "\n",
        "# 加算したベクトルを出力する\n",
        "print(v_plus_w)"
      ]
    },
    {
      "cell_type": "markdown",
      "source": [
        "例4-6 NumPyを使ってPythonでベクトルを実数倍にスケーリングする例"
      ],
      "metadata": {
        "id": "5exAu0H3r4fp"
      }
    },
    {
      "cell_type": "code",
      "execution_count": null,
      "metadata": {
        "colab": {
          "base_uri": "https://localhost:8080/"
        },
        "id": "Pel2QrMrr05v",
        "outputId": "1605391e-4c88-433b-f1e5-9dd438c3df77"
      },
      "outputs": [
        {
          "output_type": "stream",
          "name": "stdout",
          "text": [
            "[6. 2.]\n"
          ]
        }
      ],
      "source": [
        "from numpy import array\n",
        "\n",
        "v = array([3,1])\n",
        "\n",
        "# ベクトルをスケーリングする\n",
        "scaled_v = 2.0 * v\n",
        "\n",
        "# スケーリングしたベクトルを表示する\n",
        "print(scaled_v)"
      ]
    },
    {
      "cell_type": "markdown",
      "source": [
        "例4-7 NumPyによる行列とベクトルの積"
      ],
      "metadata": {
        "id": "qUhtbbY1sV3s"
      }
    },
    {
      "cell_type": "code",
      "execution_count": null,
      "metadata": {
        "colab": {
          "base_uri": "https://localhost:8080/"
        },
        "id": "25wSlY9KsUYY",
        "outputId": "a55fc301-432c-44b4-9459-b6e2a70d979f"
      },
      "outputs": [
        {
          "output_type": "stream",
          "name": "stdout",
          "text": [
            "[3 2]\n"
          ]
        }
      ],
      "source": [
        "from numpy import array\n",
        "\n",
        "# iハットとjハットの基底ベクトルの行列を生成する\n",
        "basis = array(\n",
        "    [[3, 0],\n",
        "     [0, 2]]\n",
        " )\n",
        "\n",
        "# ベクトルvを宣言する\n",
        "v = array([1,1])\n",
        "\n",
        "# 内積によりvを変換して新たなベクトルを作り出す\n",
        "new_v = basis.dot(v)\n",
        "\n",
        "print(new_v)"
      ]
    },
    {
      "cell_type": "markdown",
      "source": [
        "例4-8 基底ベクトルを個別に扱って変換する例"
      ],
      "metadata": {
        "id": "CqNze8lDtIZk"
      }
    },
    {
      "cell_type": "code",
      "execution_count": null,
      "metadata": {
        "colab": {
          "base_uri": "https://localhost:8080/"
        },
        "id": "_laXpwi_tH4F",
        "outputId": "da76b688-f2d3-46cb-a09b-cac565698ea4"
      },
      "outputs": [
        {
          "output_type": "stream",
          "name": "stdout",
          "text": [
            "[2 3]\n"
          ]
        }
      ],
      "source": [
        "from numpy import array\n",
        "\n",
        "# iハットとjハットを宣言する\n",
        "i_hat = array([2, 0])\n",
        "j_hat = array([0, 3])\n",
        "\n",
        "# iハットとjハットを使って基底ベクトルの行列を作成する\n",
        "# 行を列に転置する必要がある\n",
        "basis = array([i_hat, j_hat]).transpose()\n",
        "\n",
        "# ベクトルvを宣言する\n",
        "v = array([1,1])\n",
        "\n",
        "# 内積によりvを変換して新たなベクトルを作り出す\n",
        "new_v = basis.dot(v)\n",
        "\n",
        "print(new_v)"
      ]
    },
    {
      "cell_type": "markdown",
      "source": [
        "例4-9 NumPyを使ってベクトルを変換する例"
      ],
      "metadata": {
        "id": "sVtWrwgttb9U"
      }
    },
    {
      "cell_type": "code",
      "execution_count": null,
      "metadata": {
        "colab": {
          "base_uri": "https://localhost:8080/"
        },
        "id": "bQWI1mVDtaP0",
        "outputId": "dec6733d-458c-4a72-839b-04dd99de49a4"
      },
      "outputs": [
        {
          "output_type": "stream",
          "name": "stdout",
          "text": [
            "[4 3]\n"
          ]
        }
      ],
      "source": [
        "from numpy import array\n",
        "\n",
        "# iハットとjハットを宣言する\n",
        "i_hat = array([2, 0])\n",
        "j_hat = array([0, 3])\n",
        "\n",
        "# iハットとjハットを使って基底ベクトルの行列を作成する\n",
        "# 行を列に転置する必要がある\n",
        "basis = array([i_hat, j_hat]).transpose()\n",
        "\n",
        "\n",
        "# ベクトルvを宣言する\n",
        "v = array([2,1])\n",
        "\n",
        "# 内積によりvを変換して新たなベクトルを作り出す\n",
        "new_v = basis.dot(v)\n",
        "\n",
        "print(new_v)"
      ]
    },
    {
      "cell_type": "markdown",
      "source": [
        "例4-10 複雑な変換の例"
      ],
      "metadata": {
        "id": "xfccygduuHP8"
      }
    },
    {
      "cell_type": "code",
      "execution_count": null,
      "metadata": {
        "id": "mUI3YgrYuEsy",
        "outputId": "d1bc35a6-6b0c-4c09-9180-1d593d86124e",
        "colab": {
          "base_uri": "https://localhost:8080/"
        }
      },
      "outputs": [
        {
          "output_type": "stream",
          "name": "stdout",
          "text": [
            "[6 5]\n"
          ]
        }
      ],
      "source": [
        "from numpy import array\n",
        "\n",
        "# iハットとjハットを宣言する\n",
        "i_hat = array([2, 3])\n",
        "j_hat = array([2, -1])\n",
        "\n",
        "# iハットとjハットを使って基底ベクトルの行列を作成する\n",
        "# 行を列に転置する必要がある\n",
        "basis = array([i_hat, j_hat]).transpose()\n",
        "\n",
        "# ベクトルvを宣言する\n",
        "v = array([2,1])\n",
        "\n",
        "# 内積によりvを変換して新たなベクトルを作り出す\n",
        "new_v = basis.dot(v)\n",
        "\n",
        "print(new_v)"
      ]
    },
    {
      "cell_type": "markdown",
      "source": [
        "例4-11 2つの変換を統合する例"
      ],
      "metadata": {
        "id": "EJg2fuS2uTZT"
      }
    },
    {
      "cell_type": "code",
      "execution_count": null,
      "metadata": {
        "colab": {
          "base_uri": "https://localhost:8080/"
        },
        "id": "lcXfiQezuR0A",
        "outputId": "8cf8c018-1746-4261-dd28-1a6352f35cd3"
      },
      "outputs": [
        {
          "output_type": "stream",
          "name": "stdout",
          "text": [
            "COMBINED MATRIX:\n",
            " [[ 1 -1]\n",
            " [ 1  0]]\n"
          ]
        }
      ],
      "source": [
        "from numpy import array\n",
        "\n",
        "# 変換1\n",
        "i_hat1 = array([0, 1])\n",
        "j_hat1 = array([-1, 0])\n",
        "transform1 = array([i_hat1, j_hat1]).transpose()\n",
        "\n",
        "# 変換2\n",
        "i_hat2 = array([1, 0])\n",
        "j_hat2 = array([1, 1])\n",
        "transform2 = array([i_hat2, j_hat2]).transpose()\n",
        "\n",
        "# 変換を統合する\n",
        "combined = transform2 @ transform1\n",
        "\n",
        "# 試しに表示する\n",
        "print(\"COMBINED MATRIX:\\n {}\".format(combined))"
      ]
    },
    {
      "cell_type": "code",
      "source": [
        "v = array([1, 2])\n",
        "print(combined.dot(v))"
      ],
      "metadata": {
        "colab": {
          "base_uri": "https://localhost:8080/"
        },
        "id": "o6HEqCk8udEW",
        "outputId": "ef8a72af-8710-46fc-ad91-dba6d01b3818"
      },
      "execution_count": null,
      "outputs": [
        {
          "output_type": "stream",
          "name": "stdout",
          "text": [
            "[-1  1]\n"
          ]
        }
      ]
    },
    {
      "cell_type": "markdown",
      "source": [
        "例4-12 変換を逆順に適用する例"
      ],
      "metadata": {
        "id": "NShkI_21vLRr"
      }
    },
    {
      "cell_type": "code",
      "execution_count": null,
      "metadata": {
        "colab": {
          "base_uri": "https://localhost:8080/"
        },
        "id": "jk7E1R4gvI_0",
        "outputId": "d2dcdd78-c99f-4cfc-ee79-08dc47b995fa"
      },
      "outputs": [
        {
          "output_type": "stream",
          "name": "stdout",
          "text": [
            "COMBINED MATRIX:\n",
            " [[ 0 -1]\n",
            " [ 1  1]]\n"
          ]
        }
      ],
      "source": [
        "from numpy import array\n",
        "\n",
        "# 変換1\n",
        "i_hat1 = array([0, 1])\n",
        "j_hat1 = array([-1, 0])\n",
        "transform1 = array([i_hat1, j_hat1]).transpose()\n",
        "\n",
        "# 変換2\n",
        "i_hat2 = array([1, 0])\n",
        "j_hat2 = array([1, 1])\n",
        "transform2 = array([i_hat2, j_hat2]).transpose()\n",
        "\n",
        "# 最初にせん断を適用し、その後に回転を適用する\n",
        "combined = transform1 @ transform2\n",
        "\n",
        "# 試しに表示する\n",
        "print(\"COMBINED MATRIX:\\n {}\".format(combined))"
      ]
    },
    {
      "cell_type": "code",
      "source": [
        "v = array([1, 2])\n",
        "print(combined.dot(v))"
      ],
      "metadata": {
        "colab": {
          "base_uri": "https://localhost:8080/"
        },
        "id": "iae1dvZ5vPis",
        "outputId": "7ddcd3ed-6a27-4a5d-f388-58a6d1e226be"
      },
      "execution_count": null,
      "outputs": [
        {
          "output_type": "stream",
          "name": "stdout",
          "text": [
            "[-2  3]\n"
          ]
        }
      ]
    },
    {
      "cell_type": "markdown",
      "source": [
        "例4-13 行列式を求める例"
      ],
      "metadata": {
        "id": "VxDeSR_kvgBV"
      }
    },
    {
      "cell_type": "code",
      "execution_count": null,
      "metadata": {
        "colab": {
          "base_uri": "https://localhost:8080/"
        },
        "id": "bJTAkox7vefB",
        "outputId": "ceeb9569-231d-48f0-d930-c104042306be"
      },
      "outputs": [
        {
          "output_type": "stream",
          "name": "stdout",
          "text": [
            "6.0\n"
          ]
        }
      ],
      "source": [
        "from numpy.linalg import det\n",
        "from numpy import array\n",
        "\n",
        "i_hat = array([3, 0])\n",
        "j_hat = array([0, 2])\n",
        "\n",
        "basis = array([i_hat, j_hat]).transpose()\n",
        "\n",
        "determinant = det(basis)\n",
        "\n",
        "print(determinant)"
      ]
    },
    {
      "cell_type": "markdown",
      "source": [
        "例4-14 せん断の行列式を求める例"
      ],
      "metadata": {
        "id": "I_9Tb35vwHLe"
      }
    },
    {
      "cell_type": "code",
      "execution_count": null,
      "metadata": {
        "id": "F7qHI4JFwFe5",
        "outputId": "21460ba3-4b08-48f3-b1be-956039515ef9",
        "colab": {
          "base_uri": "https://localhost:8080/"
        }
      },
      "outputs": [
        {
          "output_type": "stream",
          "name": "stdout",
          "text": [
            "1.0\n"
          ]
        }
      ],
      "source": [
        "from numpy.linalg import det\n",
        "from numpy import array\n",
        "\n",
        "i_hat = array([1, 0])\n",
        "j_hat = array([1, 1])\n",
        "\n",
        "basis = array([i_hat, j_hat]).transpose()\n",
        "\n",
        "determinant = det(basis)\n",
        "\n",
        "print(determinant)"
      ]
    },
    {
      "cell_type": "markdown",
      "source": [
        "例4-15 負の値になる行列式の例"
      ],
      "metadata": {
        "id": "LuhdoZElwW--"
      }
    },
    {
      "cell_type": "code",
      "execution_count": null,
      "metadata": {
        "id": "dyhEXejDwVNY",
        "outputId": "5e0122a2-3052-48f6-e1ee-3feff4256312",
        "colab": {
          "base_uri": "https://localhost:8080/"
        }
      },
      "outputs": [
        {
          "output_type": "stream",
          "name": "stdout",
          "text": [
            "-5.000000000000001\n"
          ]
        }
      ],
      "source": [
        "from numpy.linalg import det\n",
        "from numpy import array\n",
        "\n",
        "i_hat = array([-2, 1])\n",
        "j_hat = array([1, 2])\n",
        "\n",
        "basis = array([i_hat, j_hat]).transpose()\n",
        "\n",
        "determinant = det(basis)\n",
        "\n",
        "print(determinant)"
      ]
    },
    {
      "cell_type": "markdown",
      "source": [
        "例4-16 行列式が0となる例"
      ],
      "metadata": {
        "id": "dYlG_Hrow-F9"
      }
    },
    {
      "cell_type": "code",
      "execution_count": null,
      "metadata": {
        "id": "Ul8n57Krw80m",
        "outputId": "5851bf3e-e2a4-4d7c-cc02-7f0c9ae6ef42",
        "colab": {
          "base_uri": "https://localhost:8080/"
        }
      },
      "outputs": [
        {
          "output_type": "stream",
          "name": "stdout",
          "text": [
            "0.0\n"
          ]
        }
      ],
      "source": [
        "from numpy.linalg import det\n",
        "from numpy import array\n",
        "\n",
        "i_hat = array([3, -1.5])\n",
        "j_hat = array([-2, 1])\n",
        "\n",
        "basis = array([i_hat, j_hat]).transpose()\n",
        "\n",
        "determinant = det(basis)\n",
        "\n",
        "print(determinant)"
      ]
    },
    {
      "cell_type": "markdown",
      "source": [
        "例4-17 SymPyを使って逆行列と単位行列を確認する例"
      ],
      "metadata": {
        "id": "4uvLSssxxSjh"
      }
    },
    {
      "cell_type": "code",
      "execution_count": null,
      "metadata": {
        "colab": {
          "base_uri": "https://localhost:8080/",
          "height": 78
        },
        "id": "PQSChWkexQHA",
        "outputId": "ddad1bb2-1393-4fdf-cdfa-964add37e9d9"
      },
      "outputs": [
        {
          "output_type": "execute_result",
          "data": {
            "text/plain": [
              "Matrix([\n",
              "[-1/2,  0,  1/3],\n",
              "[11/2, -2, -4/3],\n",
              "[  -2,  1,  1/3]])"
            ],
            "text/latex": "$\\displaystyle \\left[\\begin{matrix}- \\frac{1}{2} & 0 & \\frac{1}{3}\\\\\\frac{11}{2} & -2 & - \\frac{4}{3}\\\\-2 & 1 & \\frac{1}{3}\\end{matrix}\\right]$"
          },
          "metadata": {},
          "execution_count": 1
        }
      ],
      "source": [
        "from sympy import *\n",
        "\n",
        "# 4x + 2y + 4z = 44\n",
        "# 5x + 3y + 7z = 56\n",
        "# 9x + 3y + 6z = 72\n",
        "\n",
        "A = Matrix([\n",
        "    [4, 2, 4],\n",
        "    [5, 3, 7],\n",
        "    [9, 3, 6]\n",
        "])\n",
        "\n",
        "# 行列Aとその逆行列の行列積を取り、\n",
        "# 単位行列を得る\n",
        "inverse = A.inv()\n",
        "inverse"
      ]
    },
    {
      "cell_type": "code",
      "source": [
        "identity = inverse * A\n",
        "identity"
      ],
      "metadata": {
        "colab": {
          "base_uri": "https://localhost:8080/",
          "height": 78
        },
        "id": "4O0h_nX8xXQy",
        "outputId": "6768e757-93ee-4431-bc9c-3317945aebd9"
      },
      "execution_count": null,
      "outputs": [
        {
          "output_type": "execute_result",
          "data": {
            "text/plain": [
              "Matrix([\n",
              "[1, 0, 0],\n",
              "[0, 1, 0],\n",
              "[0, 0, 1]])"
            ],
            "text/latex": "$\\displaystyle \\left[\\begin{matrix}1 & 0 & 0\\\\0 & 1 & 0\\\\0 & 0 & 1\\end{matrix}\\right]$"
          },
          "metadata": {},
          "execution_count": 2
        }
      ]
    },
    {
      "cell_type": "code",
      "source": [
        "print(\"INVERSE: {}\".format(inverse))\n",
        "print(\"IDENTITY: {}\".format(identity))"
      ],
      "metadata": {
        "id": "OaE8Qaoixgdt",
        "outputId": "ce97d61f-2891-4611-aea7-1694d7561f9d",
        "colab": {
          "base_uri": "https://localhost:8080/"
        }
      },
      "execution_count": null,
      "outputs": [
        {
          "output_type": "stream",
          "name": "stdout",
          "text": [
            "INVERSE: Matrix([[-1/2, 0, 1/3], [11/2, -2, -4/3], [-2, 1, 1/3]])\n",
            "IDENTITY: Matrix([[1, 0, 0], [0, 1, 0], [0, 0, 1]])\n"
          ]
        }
      ]
    },
    {
      "cell_type": "markdown",
      "source": [
        "例4-18 NumPyを使って連立方程式を求める例"
      ],
      "metadata": {
        "id": "KldOXeQGx_Vd"
      }
    },
    {
      "cell_type": "code",
      "execution_count": null,
      "metadata": {
        "colab": {
          "base_uri": "https://localhost:8080/"
        },
        "id": "KXS_o0FUx79l",
        "outputId": "a33d2b5a-2fa7-42b1-b49e-235e6a2777b3"
      },
      "outputs": [
        {
          "output_type": "stream",
          "name": "stdout",
          "text": [
            "[ 2. 34. -8.]\n"
          ]
        }
      ],
      "source": [
        "from numpy import array\n",
        "from numpy.linalg import inv\n",
        "\n",
        "# 4x + 2y + 4z = 44\n",
        "# 5x + 3y + 7z = 56\n",
        "# 9x + 3y + 6z = 72\n",
        "\n",
        "A = array([\n",
        "    [4, 2, 4],\n",
        "    [5, 3, 7],\n",
        "    [9, 3, 6]\n",
        "])\n",
        "\n",
        "B = array([\n",
        "    44,\n",
        "    56,\n",
        "    72\n",
        "])\n",
        "\n",
        "X = inv(A).dot(B)\n",
        "print(X)"
      ]
    },
    {
      "cell_type": "markdown",
      "source": [
        "例4-19 SymPyを使って連立方程式を求める例"
      ],
      "metadata": {
        "id": "FjCYiYWqyf-S"
      }
    },
    {
      "cell_type": "code",
      "execution_count": null,
      "metadata": {
        "colab": {
          "base_uri": "https://localhost:8080/",
          "height": 78
        },
        "id": "H3R977u5yeFT",
        "outputId": "cab846ee-1c24-45a4-f24f-8c63cd33f9dd"
      },
      "outputs": [
        {
          "output_type": "execute_result",
          "data": {
            "text/plain": [
              "Matrix([\n",
              "[ 2],\n",
              "[34],\n",
              "[-8]])"
            ],
            "text/latex": "$\\displaystyle \\left[\\begin{matrix}2\\\\34\\\\-8\\end{matrix}\\right]$"
          },
          "metadata": {},
          "execution_count": 1
        }
      ],
      "source": [
        "from sympy import *\n",
        "\n",
        "# 4x + 2y + 4z = 44\n",
        "# 5x + 3y + 7z = 56\n",
        "# 9x + 3y + 6z = 72\n",
        "\n",
        "A = Matrix([\n",
        "    [4, 2, 4],\n",
        "    [5, 3, 7],\n",
        "    [9, 3, 6]\n",
        "])\n",
        "\n",
        "B = Matrix([\n",
        "    44,\n",
        "    56,\n",
        "    72\n",
        "])\n",
        "\n",
        "X = A.inv() * B\n",
        "X"
      ]
    },
    {
      "cell_type": "markdown",
      "source": [
        "例4-20 NumPyで行列分解を実行する例"
      ],
      "metadata": {
        "id": "vSDwNeuHzMTF"
      }
    },
    {
      "cell_type": "code",
      "execution_count": null,
      "metadata": {
        "colab": {
          "base_uri": "https://localhost:8080/"
        },
        "id": "3V8xRRJUysmh",
        "outputId": "0125616e-0bb2-42e2-a6a6-4d98099c4289"
      },
      "outputs": [
        {
          "output_type": "stream",
          "name": "stdout",
          "text": [
            "EIGENVALUES\n",
            "[-0.46410162  6.46410162]\n",
            "\n",
            "EIGENVECTORS\n",
            "[[-0.80689822 -0.34372377]\n",
            " [ 0.59069049 -0.9390708 ]]\n"
          ]
        }
      ],
      "source": [
        "from numpy import array\n",
        "from numpy.linalg import eig\n",
        "\n",
        "A = array([\n",
        "    [1, 2],\n",
        "    [4, 5]\n",
        "])\n",
        "\n",
        "eigenvals, eigenvecs = eig(A)\n",
        "\n",
        "print(\"EIGENVALUES\")\n",
        "print(eigenvals)\n",
        "print(\"\\nEIGENVECTORS\")\n",
        "print(eigenvecs)"
      ]
    },
    {
      "cell_type": "markdown",
      "source": [
        "例4-21 NumPyを使って行列分解と再構築する例"
      ],
      "metadata": {
        "id": "19IzTBIoz8En"
      }
    },
    {
      "cell_type": "code",
      "execution_count": null,
      "metadata": {
        "colab": {
          "base_uri": "https://localhost:8080/"
        },
        "id": "HFcWLd6bz6nM",
        "outputId": "30f3e14a-9b8e-40bb-e887-002357247a5d"
      },
      "outputs": [
        {
          "output_type": "stream",
          "name": "stdout",
          "text": [
            "EIGENVALUES\n",
            "[-0.46410162  6.46410162]\n",
            "\n",
            "EIGENVECTORS\n",
            "[[-0.80689822 -0.34372377]\n",
            " [ 0.59069049 -0.9390708 ]]\n",
            "\n",
            "REBUILD MATRIX\n",
            "[[1. 2.]\n",
            " [4. 5.]]\n"
          ]
        }
      ],
      "source": [
        "from numpy import array, diag\n",
        "from numpy.linalg import eig, inv\n",
        "\n",
        "A = array([\n",
        "    [1, 2],\n",
        "    [4, 5]\n",
        "])\n",
        "\n",
        "eigenvals, eigenvecs = eig(A)\n",
        "\n",
        "print(\"EIGENVALUES\")\n",
        "print(eigenvals)\n",
        "print(\"\\nEIGENVECTORS\")\n",
        "print(eigenvecs)\n",
        "\n",
        "print(\"\\nREBUILD MATRIX\")\n",
        "Q = eigenvecs\n",
        "R = inv(Q)\n",
        "L = diag(eigenvals)\n",
        "B = Q @ L @ R\n",
        "\n",
        "print(B)"
      ]
    },
    {
      "cell_type": "code",
      "source": [],
      "metadata": {
        "id": "iN9PJ18s0VAn"
      },
      "execution_count": null,
      "outputs": []
    }
  ]
}