{
  "nbformat": 4,
  "nbformat_minor": 0,
  "metadata": {
    "colab": {
      "provenance": []
    },
    "kernelspec": {
      "name": "python3",
      "display_name": "Python 3"
    },
    "language_info": {
      "name": "python"
    }
  },
  "cells": [
    {
      "cell_type": "markdown",
      "source": [
        "# 5章 線形回帰"
      ],
      "metadata": {
        "id": "CH2nnHJ-9zjP"
      }
    },
    {
      "cell_type": "markdown",
      "source": [
        "例5-1 scikit-learnを使って線形回帰を実行する例"
      ],
      "metadata": {
        "id": "_F-_cwB8NM15"
      }
    },
    {
      "cell_type": "code",
      "execution_count": null,
      "metadata": {
        "colab": {
          "base_uri": "https://localhost:8080/"
        },
        "id": "XpvB7zTUNLz7",
        "outputId": "f181fbe8-b9c6-43f5-fbc1-1f22344962bf"
      },
      "outputs": [
        {
          "output_type": "stream",
          "name": "stdout",
          "text": [
            "[[ 1]\n",
            " [ 2]\n",
            " [ 3]\n",
            " [ 4]\n",
            " [ 5]\n",
            " [ 6]\n",
            " [ 7]\n",
            " [ 8]\n",
            " [ 9]\n",
            " [10]]\n"
          ]
        }
      ],
      "source": [
        "import pandas as pd\n",
        "import matplotlib.pyplot as plt\n",
        "from sklearn.linear_model import LinearRegression\n",
        "\n",
        "# データを読み込む\n",
        "df = pd.read_csv('https://bit.ly/3goOAnt', delimiter=\",\")\n",
        "\n",
        "# 入力変数（すべての行、最終列を除くすべての列）を抽出する\n",
        "X = df.values[:, :-1]\n",
        "print(X)"
      ]
    },
    {
      "cell_type": "code",
      "source": [
        "# 出力列（すべての行、最終列）を抽出する\n",
        "Y = df.values[:, -1]\n",
        "print(Y)"
      ],
      "metadata": {
        "colab": {
          "base_uri": "https://localhost:8080/"
        },
        "id": "XDwZ5PBYNm2b",
        "outputId": "13e6f4db-f731-433e-c7c3-af62e7a12f4d"
      },
      "execution_count": null,
      "outputs": [
        {
          "output_type": "stream",
          "name": "stdout",
          "text": [
            "[ 5 10 10 15 14 15 19 18 25 23]\n"
          ]
        }
      ]
    },
    {
      "cell_type": "code",
      "source": [
        "# 点を直線に当てはめる\n",
        "fit = LinearRegression().fit(X, Y)\n",
        "\n",
        "# m = 1.7867224, b = -16.51923513\n",
        "m = fit.coef_.flatten()\n",
        "b = fit.intercept_.flatten()\n",
        "print(\"m = {0}\".format(m))\n",
        "print(\"b = {0}\".format(b))\n"
      ],
      "metadata": {
        "colab": {
          "base_uri": "https://localhost:8080/"
        },
        "id": "JQv8loCTNwpH",
        "outputId": "07239e7a-31bf-435f-ef7d-77c86a2dd12b"
      },
      "execution_count": null,
      "outputs": [
        {
          "output_type": "stream",
          "name": "stdout",
          "text": [
            "m = [1.93939394]\n",
            "b = [4.73333333]\n"
          ]
        }
      ]
    },
    {
      "cell_type": "code",
      "source": [
        "# グラフを表示する\n",
        "plt.plot(X, Y, 'o') # 点\n",
        "plt.plot(X, m*X+b) # 直線\n",
        "plt.show();"
      ],
      "metadata": {
        "id": "fFMNPYKLNyxc",
        "outputId": "6f094988-a942-4f6d-d5a4-6b98dc128c49",
        "colab": {
          "base_uri": "https://localhost:8080/",
          "height": 430
        }
      },
      "execution_count": null,
      "outputs": [
        {
          "output_type": "display_data",
          "data": {
            "text/plain": [
              "<Figure size 640x480 with 1 Axes>"
            ],
            "image/png": "[encoded data removed]"
          },
          "metadata": {}
        }
      ]
    },
    {
      "cell_type": "markdown",
      "source": [
        "例5-2 直線とデータとの残差を求める例"
      ],
      "metadata": {
        "id": "XVPwBP8ZOOhX"
      }
    },
    {
      "cell_type": "code",
      "execution_count": null,
      "metadata": {
        "colab": {
          "base_uri": "https://localhost:8080/"
        },
        "id": "1UxBHrhwOADZ",
        "outputId": "8ef9c7bf-af11-4a62-ae66-1aa8955820ab"
      },
      "outputs": [
        {
          "output_type": "stream",
          "name": "stdout",
          "text": [
            "-1.67272\n",
            "1.3878900000000005\n",
            "-0.5515000000000008\n",
            "2.5091099999999997\n",
            "-0.4302799999999998\n",
            "-1.3696699999999993\n",
            "0.6909400000000012\n",
            "-2.2484499999999983\n",
            "2.812160000000002\n",
            "-1.1272299999999973\n"
          ]
        }
      ],
      "source": [
        "import pandas as pd\n",
        "\n",
        "# 点を読み込む\n",
        "points = pd.read_csv('https://bit.ly/3goOAnt', delimiter=\",\").itertuples()\n",
        "# 直線を与える\n",
        "m = 1.93939\n",
        "b = 4.73333\n",
        "\n",
        "# 残差を求める\n",
        "for p in points:\n",
        "    y_actual = p.y\n",
        "    y_predict = m*p.x + b\n",
        "    residual = y_actual - y_predict\n",
        "    print(residual)\n"
      ]
    },
    {
      "cell_type": "markdown",
      "source": [
        "例5-4 直線とデータに対する二乗和を求める例"
      ],
      "metadata": {
        "id": "sjhonluSOfw9"
      }
    },
    {
      "cell_type": "code",
      "execution_count": null,
      "metadata": {
        "colab": {
          "base_uri": "https://localhost:8080/"
        },
        "id": "1lISKyHiOfOu",
        "outputId": "77586bcd-8b89-40b5-caba-639d58ff1631"
      },
      "outputs": [
        {
          "output_type": "stream",
          "name": "stdout",
          "text": [
            "sum of squares = 28.096969704500005\n"
          ]
        }
      ],
      "source": [
        "import pandas as pd\n",
        "\n",
        "# 点を読み込む\n",
        "points = pd.read_csv(\"https://bit.ly/2KF29Bd\").itertuples()\n",
        "\n",
        "# 直線を与える\n",
        "m = 1.93939\n",
        "b = 4.73333\n",
        "\n",
        "sum_of_squares = 0.0\n",
        "\n",
        "# 二乗和を求める\n",
        "for p in points:\n",
        "    y_actual = p.y\n",
        "    y_predict = m*p.x + b\n",
        "    residual_squared = (y_predict - y_actual)**2\n",
        "    sum_of_squares += residual_squared\n",
        "\n",
        "print(\"sum of squares = {}\".format(sum_of_squares))"
      ]
    },
    {
      "cell_type": "markdown",
      "source": [
        "例5-5 単回帰におけるmとbを求める例"
      ],
      "metadata": {
        "id": "cSoTG54vO1-N"
      }
    },
    {
      "cell_type": "code",
      "execution_count": null,
      "metadata": {
        "colab": {
          "base_uri": "https://localhost:8080/"
        },
        "id": "QYU3V62vOybl",
        "outputId": "8bc5912e-99df-4342-fcc3-7c911afaa560"
      },
      "outputs": [
        {
          "output_type": "stream",
          "name": "stdout",
          "text": [
            "1.9393939393939394 4.7333333333333325\n"
          ]
        }
      ],
      "source": [
        "import pandas as pd\n",
        "\n",
        "# データを読み込む\n",
        "points = list(pd.read_csv('https://bit.ly/2KF29Bd', delimiter=\",\").itertuples())\n",
        "\n",
        "n = len(points)\n",
        "\n",
        "m = (n*sum(p.x*p.y for p in points) - sum(p.x for p in points) *\n",
        "    sum(p.y for p in points)) / (n*sum(p.x**2 for p in points) -\n",
        "    sum(p.x for p in points)**2)\n",
        "\n",
        "b = (sum(p.y for p in points) / n) - m * sum(p.x for p in points) / n\n",
        "\n",
        "print(m, b)"
      ]
    },
    {
      "cell_type": "markdown",
      "source": [
        "例5-6 逆行列と転置行列を使って線形回帰を当てはめる例"
      ],
      "metadata": {
        "id": "841jiRVTPekC"
      }
    },
    {
      "cell_type": "code",
      "execution_count": null,
      "metadata": {
        "colab": {
          "base_uri": "https://localhost:8080/"
        },
        "id": "VHhYJZVCPHra",
        "outputId": "1b815e37-99d0-46d3-9a6a-a63620a66b48"
      },
      "outputs": [
        {
          "output_type": "stream",
          "name": "stdout",
          "text": [
            "[1.93939394 4.73333333]\n"
          ]
        }
      ],
      "source": [
        "import pandas as pd\n",
        "from numpy.linalg import inv\n",
        "import numpy as np\n",
        "\n",
        "# 点を読み込む\n",
        "df = pd.read_csv('https://bit.ly/3goOAnt', delimiter=\",\")\n",
        "\n",
        "# 入力変数（すべての行、最終列を除くすべての列）を抽出する\n",
        "X = df.values[:, :-1].flatten()\n",
        "\n",
        "# 「1」のプレースホルダー列を追加し、切片を生成する\n",
        "X_1 = np.vstack([X, np.ones(len(X))]).T\n",
        "\n",
        "# 出力列（すべての行、最終列）を抽出する\n",
        "Y = df.values[:, -1]\n",
        "\n",
        "# 傾きと切片の係数を求める\n",
        "b = inv(X_1.transpose() @ X_1) @ (X_1.transpose() @ Y)\n",
        "print(b)"
      ]
    },
    {
      "cell_type": "markdown",
      "source": [
        "例5-7 QR分解を使って線形回帰を実行する例"
      ],
      "metadata": {
        "id": "qeXDdXhGPsH2"
      }
    },
    {
      "cell_type": "code",
      "execution_count": null,
      "metadata": {
        "colab": {
          "base_uri": "https://localhost:8080/"
        },
        "id": "A-caHrdAPoIA",
        "outputId": "fb8eee4b-90e0-47ec-ad19-bb5e0277e94f"
      },
      "outputs": [
        {
          "output_type": "stream",
          "name": "stdout",
          "text": [
            "[1.93939394 4.73333333]\n"
          ]
        }
      ],
      "source": [
        "import pandas as pd\n",
        "from numpy.linalg import qr, inv\n",
        "import numpy as np\n",
        "\n",
        "# 点を読み込む\n",
        "df = pd.read_csv('https://bit.ly/3goOAnt', delimiter=\",\")\n",
        "\n",
        "# 入力変数（すべての行、最終列を除くすべての列）を抽出する\n",
        "X = df.values[:, :-1].flatten()\n",
        "\n",
        "# 「1」のプレースホルダー列を追加し、切片を生成する\n",
        "X_1 = np.vstack([X, np.ones(len(X))]).transpose()\n",
        "\n",
        "# 出力列（すべての行、最終列）を抽出する\n",
        "Y = df.values[:, -1]\n",
        "\n",
        "# QR分解を使って傾きと切片の係数を求める\n",
        "Q, R = qr(X_1)\n",
        "b = inv(R).dot(Q.transpose()).dot(Y)\n",
        "\n",
        "print(b)"
      ]
    },
    {
      "cell_type": "markdown",
      "source": [
        "例5-8 勾配降下法を使って放物線の最小値を見つける例"
      ],
      "metadata": {
        "id": "FDROQRd3QG6B"
      }
    },
    {
      "cell_type": "code",
      "execution_count": null,
      "metadata": {
        "colab": {
          "base_uri": "https://localhost:8080/"
        },
        "id": "Pk8YeElFQC33",
        "outputId": "e29a9b07-7b1a-4bb6-8b7a-24b28f0a5237"
      },
      "outputs": [
        {
          "output_type": "stream",
          "name": "stdout",
          "text": [
            "2.999999999999889 4.0\n"
          ]
        }
      ],
      "source": [
        "import random\n",
        "\n",
        "def f(x):\n",
        "    return (x - 3) ** 2 + 4\n",
        "\n",
        "def dx_f(x):\n",
        "    return 2*(x - 3)\n",
        "\n",
        "# 学習率\n",
        "L = 0.001\n",
        "\n",
        "# 勾配降下法を実行する反復回数\n",
        "iterations = 100_000\n",
        "\n",
        " # ランダムなxの値を使って開始する\n",
        "x = random.randint(-15,15)\n",
        "\n",
        "for i in range(iterations):\n",
        "\n",
        "    # 傾きを得る\n",
        "    d_x = dx_f(x)\n",
        "\n",
        "    # 学習率と傾きを掛けた値を引いてxの値を更新する\n",
        "    x -= L * d_x\n",
        "\n",
        "print(x, f(x))"
      ]
    },
    {
      "cell_type": "markdown",
      "source": [
        "例5-9 線形回帰における勾配降下法の実行例"
      ],
      "metadata": {
        "id": "TvWrJO37Qhlb"
      }
    },
    {
      "cell_type": "code",
      "execution_count": null,
      "metadata": {
        "colab": {
          "base_uri": "https://localhost:8080/"
        },
        "id": "9QULfEzmQcb1",
        "outputId": "338f2f8b-6150-46a4-b5f1-eaa47b5b02dc"
      },
      "outputs": [
        {
          "output_type": "stream",
          "name": "stdout",
          "text": [
            "y = 1.9393939393939548x + 4.733333333333227\n"
          ]
        }
      ],
      "source": [
        "import pandas as pd\n",
        "\n",
        "# CSVから点を読み込む\n",
        "points = list(pd.read_csv(\"https://bit.ly/2KF29Bd\").itertuples())\n",
        "\n",
        "# モデルを構築する\n",
        "m = 0.0\n",
        "b = 0.0\n",
        "\n",
        "\n",
        "# 学習率\n",
        "L = 0.001\n",
        "\n",
        "# 反復の回数\n",
        "iterations = 100_000\n",
        "\n",
        "n = float(len(points))  # Xの要素数\n",
        "\n",
        "# 勾配降下法を実行する\n",
        "for i in range(iterations):\n",
        "\n",
        "    # mに対する傾き\n",
        "    D_m = sum(2 * p.x * ((m * p.x + b) - p.y) for p in points)\n",
        "\n",
        "    # bに対する傾き\n",
        "    D_b = sum(2 * ((m * p.x + b) - p.y) for p in points)\n",
        "\n",
        "    # mとbを更新する\n",
        "    m -= L * D_m\n",
        "    b -= L * D_b\n",
        "\n",
        "print(\"y = {0}x + {1}\".format(m, b))"
      ]
    },
    {
      "cell_type": "markdown",
      "source": [
        "例5-10 mとbの偏微分を求める例"
      ],
      "metadata": {
        "id": "F3tE4aq5Q3cu"
      }
    },
    {
      "cell_type": "code",
      "execution_count": null,
      "metadata": {
        "colab": {
          "base_uri": "https://localhost:8080/",
          "height": 67
        },
        "id": "MQ_d0mJrQz8c",
        "outputId": "98a4f8c1-4b22-470b-c883-cf5b45bb0ccd"
      },
      "outputs": [
        {
          "output_type": "execute_result",
          "data": {
            "text/plain": [
              "Sum((b + m*x(i) - y(i))**2, (i, 0, n))"
            ],
            "text/latex": "$\\displaystyle \\sum_{i=0}^{n} \\left(b + m x{\\left(i \\right)} - y{\\left(i \\right)}\\right)^{2}$"
          },
          "metadata": {},
          "execution_count": 6
        }
      ],
      "source": [
        "from sympy import *\n",
        "\n",
        "m, b, i, n = symbols('m b i n')\n",
        "x, y = symbols('x y', cls=Function)\n",
        "\n",
        "sum_of_squares = Sum((m*x(i) + b - y(i)) ** 2, (i, 0, n))\n",
        "sum_of_squares"
      ]
    },
    {
      "cell_type": "code",
      "source": [
        "d_m = diff(sum_of_squares, m)\n",
        "d_m"
      ],
      "metadata": {
        "colab": {
          "base_uri": "https://localhost:8080/",
          "height": 67
        },
        "id": "GWm4Os-uRKRF",
        "outputId": "69a4ba2d-3a4f-4421-ac43-6833db9577c5"
      },
      "execution_count": null,
      "outputs": [
        {
          "output_type": "execute_result",
          "data": {
            "text/plain": [
              "Sum(2*(b + m*x(i) - y(i))*x(i), (i, 0, n))"
            ],
            "text/latex": "$\\displaystyle \\sum_{i=0}^{n} 2 \\left(b + m x{\\left(i \\right)} - y{\\left(i \\right)}\\right) x{\\left(i \\right)}$"
          },
          "metadata": {},
          "execution_count": 7
        }
      ]
    },
    {
      "cell_type": "code",
      "source": [
        "d_b = diff(sum_of_squares, b)\n",
        "d_b"
      ],
      "metadata": {
        "colab": {
          "base_uri": "https://localhost:8080/",
          "height": 67
        },
        "id": "BgQ5AlO6Q5ke",
        "outputId": "8772f539-7329-4c8e-8711-90af0726d417"
      },
      "execution_count": null,
      "outputs": [
        {
          "output_type": "execute_result",
          "data": {
            "text/plain": [
              "Sum(2*b + 2*m*x(i) - 2*y(i), (i, 0, n))"
            ],
            "text/latex": "$\\displaystyle \\sum_{i=0}^{n} \\left(2 b + 2 m x{\\left(i \\right)} - 2 y{\\left(i \\right)}\\right)$"
          },
          "metadata": {},
          "execution_count": 8
        }
      ]
    },
    {
      "cell_type": "markdown",
      "source": [
        "例5-11 SymPyを使って線形回帰を実行する例"
      ],
      "metadata": {
        "id": "bVjPDB6IRdKv"
      }
    },
    {
      "cell_type": "code",
      "execution_count": null,
      "metadata": {
        "colab": {
          "base_uri": "https://localhost:8080/",
          "height": 67
        },
        "id": "zGiD_jtORbti",
        "outputId": "7f5da369-5cf0-496e-b93b-fa02324794c4"
      },
      "outputs": [
        {
          "output_type": "execute_result",
          "data": {
            "text/plain": [
              "Sum((b + m*x(i) - y(i))**2, (i, 0, n))"
            ],
            "text/latex": "$\\displaystyle \\sum_{i=0}^{n} \\left(b + m x{\\left(i \\right)} - y{\\left(i \\right)}\\right)^{2}$"
          },
          "metadata": {},
          "execution_count": 9
        }
      ],
      "source": [
        "import pandas as pd\n",
        "from sympy import *\n",
        "\n",
        "# CSVから点を読み込む\n",
        "points = list(pd.read_csv(\"https://bit.ly/2KF29Bd\").itertuples())\n",
        "\n",
        "m, b, i, n = symbols('m b i n')\n",
        "x, y = symbols('x y', cls=Function)\n",
        "\n",
        "sum_of_squares = Sum((m*x(i) + b - y(i)) ** 2, (i, 0, n))\n",
        "sum_of_squares"
      ]
    },
    {
      "cell_type": "code",
      "source": [
        "d_m = diff(sum_of_squares, m) \\\n",
        "    .subs(n, len(points) - 1).doit() \\\n",
        "    .replace(x, lambda i: points[i].x) \\\n",
        "    .replace(y, lambda i: points[i].y)\n",
        "d_m"
      ],
      "metadata": {
        "colab": {
          "base_uri": "https://localhost:8080/",
          "height": 39
        },
        "id": "55zdmaAaRuJU",
        "outputId": "0b358400-5707-4b8a-b9e7-598c3f550628"
      },
      "execution_count": null,
      "outputs": [
        {
          "output_type": "execute_result",
          "data": {
            "text/plain": [
              "110*b + 770*m - 2014"
            ],
            "text/latex": "$\\displaystyle 110 b + 770 m - 2014$"
          },
          "metadata": {},
          "execution_count": 10
        }
      ]
    },
    {
      "cell_type": "code",
      "source": [
        "d_b = diff(sum_of_squares, b) \\\n",
        "    .subs(n, len(points) - 1).doit() \\\n",
        "    .replace(x, lambda i: points[i].x) \\\n",
        "    .replace(y, lambda i: points[i].y)\n",
        "d_b"
      ],
      "metadata": {
        "colab": {
          "base_uri": "https://localhost:8080/",
          "height": 39
        },
        "id": "ASDiX4oqRlqe",
        "outputId": "6fd8dfe6-1940-4077-eb2b-63d80e1f4285"
      },
      "execution_count": null,
      "outputs": [
        {
          "output_type": "execute_result",
          "data": {
            "text/plain": [
              "20*b + 110*m - 308"
            ],
            "text/latex": "$\\displaystyle 20 b + 110 m - 308$"
          },
          "metadata": {},
          "execution_count": 11
        }
      ]
    },
    {
      "cell_type": "code",
      "source": [
        "# lambdifyを使ってラムダ関数に変換し高速に計算できるようにする\n",
        "d_m = lambdify([m, b], d_m)\n",
        "d_b = lambdify([m, b], d_b)\n",
        "\n",
        "# モデルの構築\n",
        "m = 0.0\n",
        "b = 0.0\n",
        "\n",
        "# 学習率\n",
        "L = 0.001\n",
        "\n",
        "# 反復の回数\n",
        "iterations = 100_000\n",
        "\n",
        "# 勾配降下法を実行する\n",
        "for i in range(iterations):\n",
        "\n",
        "    # mとbを更新する\n",
        "    m -= d_m(m,b) * L\n",
        "    b -= d_b(m,b) * L\n",
        "\n",
        "print(\"y = {0}x + {1}\".format(m, b))\n"
      ],
      "metadata": {
        "colab": {
          "base_uri": "https://localhost:8080/"
        },
        "id": "oE1qUNezRyr3",
        "outputId": "ed596107-19b9-493f-d6bf-09c4e1bd3669"
      },
      "execution_count": null,
      "outputs": [
        {
          "output_type": "stream",
          "name": "stdout",
          "text": [
            "y = 1.939393939393954x + 4.733333333333231\n"
          ]
        }
      ]
    },
    {
      "cell_type": "markdown",
      "source": [
        "例5-12 線形回帰の損失関数を描画する例"
      ],
      "metadata": {
        "id": "yKsFMPAOMJ3x"
      }
    },
    {
      "cell_type": "code",
      "execution_count": null,
      "metadata": {
        "colab": {
          "base_uri": "https://localhost:8080/",
          "height": 495
        },
        "id": "9lGZQzUlMJMi",
        "outputId": "6328d034-843e-4d81-f367-f7e61ba2353e"
      },
      "outputs": [
        {
          "output_type": "display_data",
          "data": {
            "text/plain": [
              "<Figure size 640x480 with 1 Axes>"
            ],
            "image/png": "[encoded data removed]"
          },
          "metadata": {}
        }
      ],
      "source": [
        "from sympy import *\n",
        "from sympy.plotting import plot3d\n",
        "import pandas as pd\n",
        "\n",
        "points = list(pd.read_csv(\"https://bit.ly/2KF29Bd\").itertuples())\n",
        "m, b, i, n = symbols('m b i n')\n",
        "x, y = symbols('x y', cls=Function)\n",
        "\n",
        "sum_of_squares = Sum((m*x(i) + b - y(i)) ** 2, (i, 0, n)) \\\n",
        "    .subs(n, len(points) - 1).doit() \\\n",
        "    .replace(x, lambda i: points[i].x) \\\n",
        "    .replace(y, lambda i: points[i].y)\n",
        "\n",
        "plot3d(sum_of_squares, (m, -10, 10), (b, -10, 10));"
      ]
    },
    {
      "cell_type": "markdown",
      "source": [
        "例5-13 線形回帰に確率的勾配降下法を使った例"
      ],
      "metadata": {
        "id": "Q580bZtXSP--"
      }
    },
    {
      "cell_type": "code",
      "execution_count": null,
      "metadata": {
        "colab": {
          "base_uri": "https://localhost:8080/"
        },
        "id": "kATr1RidSL_A",
        "outputId": "c0f72586-72ea-491a-e692-742a26632602"
      },
      "outputs": [
        {
          "output_type": "stream",
          "name": "stdout",
          "text": [
            "0 0.001 0.001\n",
            "10000 2.339626102709293 1.85742269158737\n",
            "20000 2.2089625880061874 2.84318732572853\n",
            "30000 2.1069696643909577 3.488067107214731\n",
            "40000 2.0511194120243315 3.9267037358166603\n",
            "50000 1.9836185792944012 4.208628872378836\n",
            "60000 2.002932403541999 4.401489802020749\n",
            "70000 2.018855779970465 4.517137970305113\n",
            "80000 1.9829782664477282 4.5951469506717\n",
            "90000 1.9743054754993608 4.6311332348509096\n",
            "100000 1.9469324525770473 4.650794428279595\n",
            "110000 1.9294811799345999 4.6821429612184335\n",
            "120000 1.9455955305595436 4.670199016856043\n",
            "130000 1.9184103243523574 4.686208511865525\n",
            "140000 1.9669941101901425 4.692545843714768\n",
            "150000 1.9701479147496181 4.714744966259425\n",
            "160000 1.9394165200310807 4.713257770343444\n",
            "170000 1.9623868746657587 4.70943762170904\n",
            "180000 1.9393374318825607 4.719616575363001\n",
            "190000 1.9623351321503153 4.696962188889357\n",
            "200000 1.9525790375354715 4.712091042352691\n",
            "210000 1.9648312273191755 4.735642835757868\n",
            "220000 1.9463590658679255 4.710886923206818\n",
            "230000 1.9752622209149824 4.705403395013237\n",
            "240000 1.9600910198196453 4.702612870017914\n",
            "250000 1.9432937929252854 4.712284893295365\n",
            "260000 1.9228366209673355 4.699864249459934\n",
            "270000 1.916858567024586 4.720934556626337\n",
            "280000 1.9148226409004738 4.720148023062301\n",
            "290000 1.9354723509122067 4.7261505933533\n",
            "300000 1.9221905285903071 4.731966655819262\n",
            "310000 1.9563752626008302 4.750220995568787\n",
            "320000 1.9698453902419286 4.729623904640382\n",
            "330000 1.9250786525508155 4.727339017219997\n",
            "340000 1.9270219240607145 4.7227311890694885\n",
            "350000 1.9204902767379188 4.734263388160817\n",
            "360000 1.9087010424789317 4.747424617074285\n",
            "370000 1.9537274933699056 4.746956926289695\n",
            "380000 1.9176538417135987 4.753657374697622\n",
            "390000 1.8899786903003903 4.743418531612829\n",
            "400000 1.9494429304012102 4.7431521715174245\n",
            "410000 1.948052279430095 4.740568028112342\n",
            "420000 1.94946131209704 4.722914913128726\n",
            "430000 1.9308580025576694 4.733881604270488\n",
            "440000 1.9482552147814234 4.735551231672844\n",
            "450000 1.9596450843097986 4.741920444280272\n",
            "460000 1.9188812175946204 4.733990339894138\n",
            "470000 1.9202563109254402 4.723907576230284\n",
            "480000 1.9237385333794592 4.733610579243023\n",
            "490000 1.9331090934874 4.749801551852258\n",
            "500000 1.9528230178964714 4.742491645549594\n",
            "510000 1.9467212192104686 4.731475938023725\n",
            "520000 1.9614762750989534 4.738265135780615\n",
            "530000 1.9362332150246948 4.744018705918302\n",
            "540000 1.9316673908703896 4.7432314853407656\n",
            "550000 1.9548546314042763 4.749513215737595\n",
            "560000 1.9224638290140568 4.734104848925247\n",
            "570000 1.9370083634396953 4.724530501029632\n",
            "580000 1.9495762046126675 4.7200415089777605\n",
            "590000 1.948011527805381 4.725248882131074\n",
            "600000 1.9288192451419663 4.72535323857418\n",
            "610000 1.971039117141898 4.714478494293104\n",
            "620000 1.9429715640139757 4.7240380837838\n",
            "630000 1.9460370758597587 4.734633105273855\n",
            "640000 1.9177150158108804 4.724267161318689\n",
            "650000 1.926804700810903 4.715661527351809\n",
            "660000 1.9164648096886892 4.719800563067684\n",
            "670000 1.9789753763549698 4.728898003214145\n",
            "680000 1.958353224501031 4.757994769058933\n",
            "690000 1.9292128957342387 4.753979975658187\n",
            "700000 1.9528428815786358 4.731762088052709\n",
            "710000 1.9506884845792989 4.721670882198884\n",
            "720000 1.936397202822464 4.717772853699628\n",
            "730000 1.9211837079923904 4.718016258366974\n",
            "740000 1.9545820620513668 4.722989579643935\n",
            "750000 1.9842151363138256 4.710720874514249\n",
            "760000 1.9517477017560716 4.706367116605205\n",
            "770000 1.9632750010915683 4.704417515604665\n",
            "780000 1.9494239867147323 4.69884448392664\n",
            "790000 1.9750522275013827 4.7004295420807995\n",
            "800000 1.9705836592048913 4.72440045959286\n",
            "810000 1.9019258082067225 4.718933041643724\n",
            "820000 1.9328839314248578 4.730046104460432\n",
            "830000 1.945997203385182 4.732138842800159\n",
            "840000 1.9444817570790143 4.726804397109837\n",
            "850000 1.918944199453578 4.738641548787522\n",
            "860000 1.9293074140454431 4.730235067182889\n",
            "870000 1.9459021100722298 4.730874643774235\n",
            "880000 1.9238095981157377 4.735420366745865\n",
            "890000 1.9410153736886462 4.750824864296898\n",
            "900000 1.9289323178868516 4.751031573876729\n",
            "910000 1.9323525293413255 4.751469792033008\n",
            "920000 1.9287722803249143 4.748234274075376\n",
            "930000 1.9109167599670835 4.744031434719983\n",
            "940000 1.9144744794412178 4.758851983641187\n",
            "950000 1.9220522990117423 4.752350301199475\n",
            "960000 1.9086063991582112 4.753848146063426\n",
            "970000 1.9282871749453017 4.77061059874724\n",
            "980000 1.9386379582596933 4.742943792379786\n",
            "990000 1.9151017682018072 4.729957762656218\n",
            "y = 1.9442831893204777x + 4.743169038212486\n"
          ]
        }
      ],
      "source": [
        "import pandas as pd\n",
        "import numpy as np\n",
        "\n",
        "# 入力データ\n",
        "data = pd.read_csv('https://bit.ly/2KF29Bd', header=0)\n",
        "\n",
        "X = data.iloc[:, 0].values\n",
        "Y = data.iloc[:, 1].values\n",
        "\n",
        "n = data.shape[0]  # 行数\n",
        "\n",
        "# モデルを構築する\n",
        "m = 0.0\n",
        "b = 0.0\n",
        "\n",
        "sample_size = 1  # 標本のサイズ\n",
        "L = 0.0001  # 学習率\n",
        "epochs = 1_000_000  # 勾配降下法を実行する反復の回数\n",
        "\n",
        "# 確率的勾配降下法を実行する\n",
        "for i in range(epochs):\n",
        "    idx = np.random.choice(n, sample_size, replace=False)\n",
        "    x_sample = X[idx]\n",
        "    y_sample = Y[idx]\n",
        "\n",
        "    # 現在のyの予測値\n",
        "    Y_pred = m * x_sample + b\n",
        "\n",
        "    # 損失関数をmで偏微分する\n",
        "    D_m = (-2 / sample_size) * sum(x_sample * (y_sample - Y_pred))\n",
        "\n",
        "    # 損失関数をbで偏微分する\n",
        "    D_b = (-2 / sample_size) * sum(y_sample - Y_pred)\n",
        "    m = m - L * D_m  # mを更新する\n",
        "    b = b - L * D_b  # bを更新する\n",
        "\n",
        "    # 進捗を表示する\n",
        "    if i % 10000 == 0:\n",
        "        print(i, m, b)\n",
        "\n",
        "print(\"y = {0}x + {1}\".format(m, b))"
      ]
    },
    {
      "cell_type": "markdown",
      "source": [
        "例5-14 Pandasを使って変数の組み合わせに対する相関係数を確認する例"
      ],
      "metadata": {
        "id": "5L_z9x2p45mp"
      }
    },
    {
      "cell_type": "code",
      "execution_count": null,
      "metadata": {
        "colab": {
          "base_uri": "https://localhost:8080/",
          "height": 125
        },
        "id": "l56IkguX43ba",
        "outputId": "22363855-0cd6-4dca-93b1-17cb8c69881a"
      },
      "outputs": [
        {
          "output_type": "execute_result",
          "data": {
            "text/plain": [
              "          x         y\n",
              "x  1.000000  0.957586\n",
              "y  0.957586  1.000000"
            ],
            "text/html": [
              "\n",
              "  <div id=\"df-ca2e5dec-23a3-43d3-ab8b-87ab85392251\" class=\"colab-df-container\">\n",
              "    <div>\n",
              "<style scoped>\n",
              "    .dataframe tbody tr th:only-of-type {\n",
              "        vertical-align: middle;\n",
              "    }\n",
              "\n",
              "    .dataframe tbody tr th {\n",
              "        vertical-align: top;\n",
              "    }\n",
              "\n",
              "    .dataframe thead th {\n",
              "        text-align: right;\n",
              "    }\n",
              "</style>\n",
              "<table border=\"1\" class=\"dataframe\">\n",
              "  <thead>\n",
              "    <tr style=\"text-align: right;\">\n",
              "      <th></th>\n",
              "      <th>x</th>\n",
              "      <th>y</th>\n",
              "    </tr>\n",
              "  </thead>\n",
              "  <tbody>\n",
              "    <tr>\n",
              "      <th>x</th>\n",
              "      <td>1.000000</td>\n",
              "      <td>0.957586</td>\n",
              "    </tr>\n",
              "    <tr>\n",
              "      <th>y</th>\n",
              "      <td>0.957586</td>\n",
              "      <td>1.000000</td>\n",
              "    </tr>\n",
              "  </tbody>\n",
              "</table>\n",
              "</div>\n",
              "    <div class=\"colab-df-buttons\">\n",
              "\n",
              "  <div class=\"colab-df-container\">\n",
              "    <button class=\"colab-df-convert\" onclick=\"convertToInteractive('df-ca2e5dec-23a3-43d3-ab8b-87ab85392251')\"\n",
              "            title=\"Convert this dataframe to an interactive table.\"\n",
              "            style=\"display:none;\">\n",
              "\n",
              "  <svg xmlns=\"http://www.w3.org/2000/svg\" height=\"24px\" viewBox=\"0 -960 960 960\">\n",
              "    <path d=\"M120-120v-720h720v720H120Zm60-500h600v-160H180v160Zm220 220h160v-160H400v160Zm0 220h160v-160H400v160ZM180-400h160v-160H180v160Zm440 0h160v-160H620v160ZM180-180h160v-160H180v160Zm440 0h160v-160H620v160Z\"/>\n",
              "  </svg>\n",
              "    </button>\n",
              "\n",
              "  <style>\n",
              "    .colab-df-container {\n",
              "      display:flex;\n",
              "      gap: 12px;\n",
              "    }\n",
              "\n",
              "    .colab-df-convert {\n",
              "      background-color: #E8F0FE;\n",
              "      border: none;\n",
              "      border-radius: 50%;\n",
              "      cursor: pointer;\n",
              "      display: none;\n",
              "      fill: #1967D2;\n",
              "      height: 32px;\n",
              "      padding: 0 0 0 0;\n",
              "      width: 32px;\n",
              "    }\n",
              "\n",
              "    .colab-df-convert:hover {\n",
              "      background-color: #E2EBFA;\n",
              "      box-shadow: 0px 1px 2px rgba(60, 64, 67, 0.3), 0px 1px 3px 1px rgba(60, 64, 67, 0.15);\n",
              "      fill: #174EA6;\n",
              "    }\n",
              "\n",
              "    .colab-df-buttons div {\n",
              "      margin-bottom: 4px;\n",
              "    }\n",
              "\n",
              "    [theme=dark] .colab-df-convert {\n",
              "      background-color: #3B4455;\n",
              "      fill: #D2E3FC;\n",
              "    }\n",
              "\n",
              "    [theme=dark] .colab-df-convert:hover {\n",
              "      background-color: #434B5C;\n",
              "      box-shadow: 0px 1px 3px 1px rgba(0, 0, 0, 0.15);\n",
              "      filter: drop-shadow(0px 1px 2px rgba(0, 0, 0, 0.3));\n",
              "      fill: #FFFFFF;\n",
              "    }\n",
              "  </style>\n",
              "\n",
              "    <script>\n",
              "      const buttonEl =\n",
              "        document.querySelector('#df-ca2e5dec-23a3-43d3-ab8b-87ab85392251 button.colab-df-convert');\n",
              "      buttonEl.style.display =\n",
              "        google.colab.kernel.accessAllowed ? 'block' : 'none';\n",
              "\n",
              "      async function convertToInteractive(key) {\n",
              "        const element = document.querySelector('#df-ca2e5dec-23a3-43d3-ab8b-87ab85392251');\n",
              "        const dataTable =\n",
              "          await google.colab.kernel.invokeFunction('convertToInteractive',\n",
              "                                                    [key], {});\n",
              "        if (!dataTable) return;\n",
              "\n",
              "        const docLinkHtml = 'Like what you see? Visit the ' +\n",
              "          '<a target=\"_blank\" href=https://colab.research.google.com/notebooks/data_table.ipynb>data table notebook</a>'\n",
              "          + ' to learn more about interactive tables.';\n",
              "        element.innerHTML = '';\n",
              "        dataTable['output_type'] = 'display_data';\n",
              "        await google.colab.output.renderOutput(dataTable, element);\n",
              "        const docLink = document.createElement('div');\n",
              "        docLink.innerHTML = docLinkHtml;\n",
              "        element.appendChild(docLink);\n",
              "      }\n",
              "    </script>\n",
              "  </div>\n",
              "\n",
              "\n",
              "<div id=\"df-5ac1b17c-93ca-4f77-ae62-0da736ecd3de\">\n",
              "  <button class=\"colab-df-quickchart\" onclick=\"quickchart('df-5ac1b17c-93ca-4f77-ae62-0da736ecd3de')\"\n",
              "            title=\"Suggest charts\"\n",
              "            style=\"display:none;\">\n",
              "\n",
              "<svg xmlns=\"http://www.w3.org/2000/svg\" height=\"24px\"viewBox=\"0 0 24 24\"\n",
              "     width=\"24px\">\n",
              "    <g>\n",
              "        <path d=\"M19 3H5c-1.1 0-2 .9-2 2v14c0 1.1.9 2 2 2h14c1.1 0 2-.9 2-2V5c0-1.1-.9-2-2-2zM9 17H7v-7h2v7zm4 0h-2V7h2v10zm4 0h-2v-4h2v4z\"/>\n",
              "    </g>\n",
              "</svg>\n",
              "  </button>\n",
              "\n",
              "<style>\n",
              "  .colab-df-quickchart {\n",
              "      --bg-color: #E8F0FE;\n",
              "      --fill-color: #1967D2;\n",
              "      --hover-bg-color: #E2EBFA;\n",
              "      --hover-fill-color: #174EA6;\n",
              "      --disabled-fill-color: #AAA;\n",
              "      --disabled-bg-color: #DDD;\n",
              "  }\n",
              "\n",
              "  [theme=dark] .colab-df-quickchart {\n",
              "      --bg-color: #3B4455;\n",
              "      --fill-color: #D2E3FC;\n",
              "      --hover-bg-color: #434B5C;\n",
              "      --hover-fill-color: #FFFFFF;\n",
              "      --disabled-bg-color: #3B4455;\n",
              "      --disabled-fill-color: #666;\n",
              "  }\n",
              "\n",
              "  .colab-df-quickchart {\n",
              "    background-color: var(--bg-color);\n",
              "    border: none;\n",
              "    border-radius: 50%;\n",
              "    cursor: pointer;\n",
              "    display: none;\n",
              "    fill: var(--fill-color);\n",
              "    height: 32px;\n",
              "    padding: 0;\n",
              "    width: 32px;\n",
              "  }\n",
              "\n",
              "  .colab-df-quickchart:hover {\n",
              "    background-color: var(--hover-bg-color);\n",
              "    box-shadow: 0 1px 2px rgba(60, 64, 67, 0.3), 0 1px 3px 1px rgba(60, 64, 67, 0.15);\n",
              "    fill: var(--button-hover-fill-color);\n",
              "  }\n",
              "\n",
              "  .colab-df-quickchart-complete:disabled,\n",
              "  .colab-df-quickchart-complete:disabled:hover {\n",
              "    background-color: var(--disabled-bg-color);\n",
              "    fill: var(--disabled-fill-color);\n",
              "    box-shadow: none;\n",
              "  }\n",
              "\n",
              "  .colab-df-spinner {\n",
              "    border: 2px solid var(--fill-color);\n",
              "    border-color: transparent;\n",
              "    border-bottom-color: var(--fill-color);\n",
              "    animation:\n",
              "      spin 1s steps(1) infinite;\n",
              "  }\n",
              "\n",
              "  @keyframes spin {\n",
              "    0% {\n",
              "      border-color: transparent;\n",
              "      border-bottom-color: var(--fill-color);\n",
              "      border-left-color: var(--fill-color);\n",
              "    }\n",
              "    20% {\n",
              "      border-color: transparent;\n",
              "      border-left-color: var(--fill-color);\n",
              "      border-top-color: var(--fill-color);\n",
              "    }\n",
              "    30% {\n",
              "      border-color: transparent;\n",
              "      border-left-color: var(--fill-color);\n",
              "      border-top-color: var(--fill-color);\n",
              "      border-right-color: var(--fill-color);\n",
              "    }\n",
              "    40% {\n",
              "      border-color: transparent;\n",
              "      border-right-color: var(--fill-color);\n",
              "      border-top-color: var(--fill-color);\n",
              "    }\n",
              "    60% {\n",
              "      border-color: transparent;\n",
              "      border-right-color: var(--fill-color);\n",
              "    }\n",
              "    80% {\n",
              "      border-color: transparent;\n",
              "      border-right-color: var(--fill-color);\n",
              "      border-bottom-color: var(--fill-color);\n",
              "    }\n",
              "    90% {\n",
              "      border-color: transparent;\n",
              "      border-bottom-color: var(--fill-color);\n",
              "    }\n",
              "  }\n",
              "</style>\n",
              "\n",
              "  <script>\n",
              "    async function quickchart(key) {\n",
              "      const quickchartButtonEl =\n",
              "        document.querySelector('#' + key + ' button');\n",
              "      quickchartButtonEl.disabled = true;  // To prevent multiple clicks.\n",
              "      quickchartButtonEl.classList.add('colab-df-spinner');\n",
              "      try {\n",
              "        const charts = await google.colab.kernel.invokeFunction(\n",
              "            'suggestCharts', [key], {});\n",
              "      } catch (error) {\n",
              "        console.error('Error during call to suggestCharts:', error);\n",
              "      }\n",
              "      quickchartButtonEl.classList.remove('colab-df-spinner');\n",
              "      quickchartButtonEl.classList.add('colab-df-quickchart-complete');\n",
              "    }\n",
              "    (() => {\n",
              "      let quickchartButtonEl =\n",
              "        document.querySelector('#df-5ac1b17c-93ca-4f77-ae62-0da736ecd3de button');\n",
              "      quickchartButtonEl.style.display =\n",
              "        google.colab.kernel.accessAllowed ? 'block' : 'none';\n",
              "    })();\n",
              "  </script>\n",
              "</div>\n",
              "\n",
              "  <div id=\"id_4c7734fa-7f90-4c73-addd-2939e6481556\">\n",
              "    <style>\n",
              "      .colab-df-generate {\n",
              "        background-color: #E8F0FE;\n",
              "        border: none;\n",
              "        border-radius: 50%;\n",
              "        cursor: pointer;\n",
              "        display: none;\n",
              "        fill: #1967D2;\n",
              "        height: 32px;\n",
              "        padding: 0 0 0 0;\n",
              "        width: 32px;\n",
              "      }\n",
              "\n",
              "      .colab-df-generate:hover {\n",
              "        background-color: #E2EBFA;\n",
              "        box-shadow: 0px 1px 2px rgba(60, 64, 67, 0.3), 0px 1px 3px 1px rgba(60, 64, 67, 0.15);\n",
              "        fill: #174EA6;\n",
              "      }\n",
              "\n",
              "      [theme=dark] .colab-df-generate {\n",
              "        background-color: #3B4455;\n",
              "        fill: #D2E3FC;\n",
              "      }\n",
              "\n",
              "      [theme=dark] .colab-df-generate:hover {\n",
              "        background-color: #434B5C;\n",
              "        box-shadow: 0px 1px 3px 1px rgba(0, 0, 0, 0.15);\n",
              "        filter: drop-shadow(0px 1px 2px rgba(0, 0, 0, 0.3));\n",
              "        fill: #FFFFFF;\n",
              "      }\n",
              "    </style>\n",
              "    <button class=\"colab-df-generate\" onclick=\"generateWithVariable('correlations')\"\n",
              "            title=\"Generate code using this dataframe.\"\n",
              "            style=\"display:none;\">\n",
              "\n",
              "  <svg xmlns=\"http://www.w3.org/2000/svg\" height=\"24px\"viewBox=\"0 0 24 24\"\n",
              "       width=\"24px\">\n",
              "    <path d=\"M7,19H8.4L18.45,9,17,7.55,7,17.6ZM5,21V16.75L18.45,3.32a2,2,0,0,1,2.83,0l1.4,1.43a1.91,1.91,0,0,1,.58,1.4,1.91,1.91,0,0,1-.58,1.4L9.25,21ZM18.45,9,17,7.55Zm-12,3A5.31,5.31,0,0,0,4.9,8.1,5.31,5.31,0,0,0,1,6.5,5.31,5.31,0,0,0,4.9,4.9,5.31,5.31,0,0,0,6.5,1,5.31,5.31,0,0,0,8.1,4.9,5.31,5.31,0,0,0,12,6.5,5.46,5.46,0,0,0,6.5,12Z\"/>\n",
              "  </svg>\n",
              "    </button>\n",
              "    <script>\n",
              "      (() => {\n",
              "      const buttonEl =\n",
              "        document.querySelector('#id_4c7734fa-7f90-4c73-addd-2939e6481556 button.colab-df-generate');\n",
              "      buttonEl.style.display =\n",
              "        google.colab.kernel.accessAllowed ? 'block' : 'none';\n",
              "\n",
              "      buttonEl.onclick = () => {\n",
              "        google.colab.notebook.generateWithVariable('correlations');\n",
              "      }\n",
              "      })();\n",
              "    </script>\n",
              "  </div>\n",
              "\n",
              "    </div>\n",
              "  </div>\n"
            ],
            "application/vnd.google.colaboratory.intrinsic+json": {
              "type": "dataframe",
              "variable_name": "correlations",
              "summary": "{\n  \"name\": \"correlations\",\n  \"rows\": 2,\n  \"fields\": [\n    {\n      \"column\": \"x\",\n      \"properties\": {\n        \"dtype\": \"number\",\n        \"std\": 0.02999115969451338,\n        \"min\": 0.9575860952087218,\n        \"max\": 1.0,\n        \"num_unique_values\": 2,\n        \"samples\": [\n          0.9575860952087218,\n          1.0\n        ],\n        \"semantic_type\": \"\",\n        \"description\": \"\"\n      }\n    },\n    {\n      \"column\": \"y\",\n      \"properties\": {\n        \"dtype\": \"number\",\n        \"std\": 0.02999115969451338,\n        \"min\": 0.9575860952087218,\n        \"max\": 1.0,\n        \"num_unique_values\": 2,\n        \"samples\": [\n          1.0,\n          0.9575860952087218\n        ],\n        \"semantic_type\": \"\",\n        \"description\": \"\"\n      }\n    }\n  ]\n}"
            }
          },
          "metadata": {},
          "execution_count": 1
        }
      ],
      "source": [
        "import pandas as pd\n",
        "\n",
        "# データをPandasのデータフレームとして読み込む\n",
        "df = pd.read_csv('https://bit.ly/2KF29Bd', delimiter=\",\")\n",
        "\n",
        "# 変数間の相関係数を出力する\n",
        "correlations = df.corr(method='pearson')\n",
        "correlations"
      ]
    },
    {
      "cell_type": "markdown",
      "source": [
        "例5-15 Pythonでゼロから相関係数を求める例"
      ],
      "metadata": {
        "id": "q1jtuxvE5k5I"
      }
    },
    {
      "cell_type": "code",
      "execution_count": null,
      "metadata": {
        "colab": {
          "base_uri": "https://localhost:8080/"
        },
        "id": "jVLIoMWo5hvs",
        "outputId": "cbe057c5-2462-4e0d-b09a-0323cb4781c2"
      },
      "outputs": [
        {
          "output_type": "execute_result",
          "data": {
            "text/plain": [
              "0.9575860952087218"
            ]
          },
          "metadata": {},
          "execution_count": 1
        }
      ],
      "source": [
        "import pandas as pd\n",
        "from math import sqrt\n",
        "\n",
        "# CSVから点を読み込む\n",
        "points = list(pd.read_csv(\"https://bit.ly/2KF29Bd\").itertuples())\n",
        "n = len(points)\n",
        "\n",
        "numerator = n * sum(p.x * p.y for p in points) - \\\n",
        "            sum(p.x for p in points) * sum(p.y for p in points)\n",
        "\n",
        "denominator = sqrt(n*sum(p.x**2 for p in points) - sum(p.x for p in points)**2) \\\n",
        "              * sqrt(n*sum(p.y**2 for p in points) - sum(p.y for p in points)**2)\n",
        "\n",
        "corr = numerator / denominator\n",
        "corr"
      ]
    },
    {
      "cell_type": "markdown",
      "source": [
        "例5-16 t分布の臨界値を求める例"
      ],
      "metadata": {
        "id": "QVKfT1r857lJ"
      }
    },
    {
      "cell_type": "code",
      "execution_count": null,
      "metadata": {
        "colab": {
          "base_uri": "https://localhost:8080/"
        },
        "id": "DEZsxhnK55QJ",
        "outputId": "9bbb5440-f51b-40a5-a72f-287b563c67eb"
      },
      "outputs": [
        {
          "output_type": "stream",
          "name": "stdout",
          "text": [
            "-2.2621571628540997 2.2621571628540993\n"
          ]
        }
      ],
      "source": [
        "from scipy.stats import t\n",
        "\n",
        "n = 10\n",
        "lower_cv = t(n-1).ppf(0.025)\n",
        "upper_cv = t(n-1).ppf(0.975)\n",
        "\n",
        "print(lower_cv, upper_cv)"
      ]
    },
    {
      "cell_type": "markdown",
      "source": [
        "例5-17 線形に見えるデータの優位性を検定する例"
      ],
      "metadata": {
        "id": "jINyfJA16VB3"
      }
    },
    {
      "cell_type": "code",
      "execution_count": null,
      "metadata": {
        "colab": {
          "base_uri": "https://localhost:8080/"
        },
        "id": "mozGuKEY6Tep",
        "outputId": "b8dab2ed-ae66-4422-d474-1726b81143d0"
      },
      "outputs": [
        {
          "output_type": "stream",
          "name": "stdout",
          "text": [
            "TEST VALUE: 9.399564671312076\n",
            "CRITICAL RANGE: -2.2621571628540997, 2.2621571628540993\n",
            "CORRELATION PROVEN, REJECT H0\n",
            "P-VALUE: 5.9763860877914965e-06\n"
          ]
        }
      ],
      "source": [
        "from scipy.stats import t\n",
        "from math import sqrt\n",
        "\n",
        "# 標本のサイズ\n",
        "n = 10\n",
        "\n",
        "lower_cv = t(n-1).ppf(0.025)\n",
        "upper_cv = t(n-1).ppf(0.975)\n",
        "\n",
        "# https://bit.ly/2KF29Bd のデータから求めた相関係数\n",
        "r = 0.957586\n",
        "\n",
        "# 検定を実行する\n",
        "test_value = r / sqrt((1-r**2) / (n-2))\n",
        "\n",
        "print(\"TEST VALUE: {}\".format(test_value))\n",
        "print(\"CRITICAL RANGE: {}, {}\".format(lower_cv, upper_cv))\n",
        "\n",
        "if test_value < lower_cv or test_value > upper_cv:\n",
        "    print(\"CORRELATION PROVEN, REJECT H0\")\n",
        "else:\n",
        "    print(\"CORRELATION NOT PROVEN, FAILED TO REJECT H0 \")\n",
        "\n",
        "# p値を求める\n",
        "if test_value > 0:\n",
        "    p_value = 1.0 - t(n-1).cdf(test_value)\n",
        "else:\n",
        "    p_value = t(n-1).cdf(test_value)\n",
        "\n",
        "# 両側検定のため、2を掛ける\n",
        "p_value = p_value * 2\n",
        "print(\"P-VALUE: {}\".format(p_value))"
      ]
    },
    {
      "cell_type": "markdown",
      "source": [
        "例5-18 Pandasで相関行列を生成する例"
      ],
      "metadata": {
        "id": "0GYCsTfh6vja"
      }
    },
    {
      "cell_type": "code",
      "execution_count": null,
      "metadata": {
        "colab": {
          "base_uri": "https://localhost:8080/",
          "height": 125
        },
        "id": "LZ8OHX1_6tYh",
        "outputId": "fa87c671-f622-4807-d5f1-3ab64533ff84"
      },
      "outputs": [
        {
          "output_type": "execute_result",
          "data": {
            "text/plain": [
              "          x         y\n",
              "x  1.000000  0.916971\n",
              "y  0.916971  1.000000"
            ],
            "text/html": [
              "\n",
              "  <div id=\"df-2b8324ea-0f07-4478-b22f-153667de18ae\" class=\"colab-df-container\">\n",
              "    <div>\n",
              "<style scoped>\n",
              "    .dataframe tbody tr th:only-of-type {\n",
              "        vertical-align: middle;\n",
              "    }\n",
              "\n",
              "    .dataframe tbody tr th {\n",
              "        vertical-align: top;\n",
              "    }\n",
              "\n",
              "    .dataframe thead th {\n",
              "        text-align: right;\n",
              "    }\n",
              "</style>\n",
              "<table border=\"1\" class=\"dataframe\">\n",
              "  <thead>\n",
              "    <tr style=\"text-align: right;\">\n",
              "      <th></th>\n",
              "      <th>x</th>\n",
              "      <th>y</th>\n",
              "    </tr>\n",
              "  </thead>\n",
              "  <tbody>\n",
              "    <tr>\n",
              "      <th>x</th>\n",
              "      <td>1.000000</td>\n",
              "      <td>0.916971</td>\n",
              "    </tr>\n",
              "    <tr>\n",
              "      <th>y</th>\n",
              "      <td>0.916971</td>\n",
              "      <td>1.000000</td>\n",
              "    </tr>\n",
              "  </tbody>\n",
              "</table>\n",
              "</div>\n",
              "    <div class=\"colab-df-buttons\">\n",
              "\n",
              "  <div class=\"colab-df-container\">\n",
              "    <button class=\"colab-df-convert\" onclick=\"convertToInteractive('df-2b8324ea-0f07-4478-b22f-153667de18ae')\"\n",
              "            title=\"Convert this dataframe to an interactive table.\"\n",
              "            style=\"display:none;\">\n",
              "\n",
              "  <svg xmlns=\"http://www.w3.org/2000/svg\" height=\"24px\" viewBox=\"0 -960 960 960\">\n",
              "    <path d=\"M120-120v-720h720v720H120Zm60-500h600v-160H180v160Zm220 220h160v-160H400v160Zm0 220h160v-160H400v160ZM180-400h160v-160H180v160Zm440 0h160v-160H620v160ZM180-180h160v-160H180v160Zm440 0h160v-160H620v160Z\"/>\n",
              "  </svg>\n",
              "    </button>\n",
              "\n",
              "  <style>\n",
              "    .colab-df-container {\n",
              "      display:flex;\n",
              "      gap: 12px;\n",
              "    }\n",
              "\n",
              "    .colab-df-convert {\n",
              "      background-color: #E8F0FE;\n",
              "      border: none;\n",
              "      border-radius: 50%;\n",
              "      cursor: pointer;\n",
              "      display: none;\n",
              "      fill: #1967D2;\n",
              "      height: 32px;\n",
              "      padding: 0 0 0 0;\n",
              "      width: 32px;\n",
              "    }\n",
              "\n",
              "    .colab-df-convert:hover {\n",
              "      background-color: #E2EBFA;\n",
              "      box-shadow: 0px 1px 2px rgba(60, 64, 67, 0.3), 0px 1px 3px 1px rgba(60, 64, 67, 0.15);\n",
              "      fill: #174EA6;\n",
              "    }\n",
              "\n",
              "    .colab-df-buttons div {\n",
              "      margin-bottom: 4px;\n",
              "    }\n",
              "\n",
              "    [theme=dark] .colab-df-convert {\n",
              "      background-color: #3B4455;\n",
              "      fill: #D2E3FC;\n",
              "    }\n",
              "\n",
              "    [theme=dark] .colab-df-convert:hover {\n",
              "      background-color: #434B5C;\n",
              "      box-shadow: 0px 1px 3px 1px rgba(0, 0, 0, 0.15);\n",
              "      filter: drop-shadow(0px 1px 2px rgba(0, 0, 0, 0.3));\n",
              "      fill: #FFFFFF;\n",
              "    }\n",
              "  </style>\n",
              "\n",
              "    <script>\n",
              "      const buttonEl =\n",
              "        document.querySelector('#df-2b8324ea-0f07-4478-b22f-153667de18ae button.colab-df-convert');\n",
              "      buttonEl.style.display =\n",
              "        google.colab.kernel.accessAllowed ? 'block' : 'none';\n",
              "\n",
              "      async function convertToInteractive(key) {\n",
              "        const element = document.querySelector('#df-2b8324ea-0f07-4478-b22f-153667de18ae');\n",
              "        const dataTable =\n",
              "          await google.colab.kernel.invokeFunction('convertToInteractive',\n",
              "                                                    [key], {});\n",
              "        if (!dataTable) return;\n",
              "\n",
              "        const docLinkHtml = 'Like what you see? Visit the ' +\n",
              "          '<a target=\"_blank\" href=https://colab.research.google.com/notebooks/data_table.ipynb>data table notebook</a>'\n",
              "          + ' to learn more about interactive tables.';\n",
              "        element.innerHTML = '';\n",
              "        dataTable['output_type'] = 'display_data';\n",
              "        await google.colab.output.renderOutput(dataTable, element);\n",
              "        const docLink = document.createElement('div');\n",
              "        docLink.innerHTML = docLinkHtml;\n",
              "        element.appendChild(docLink);\n",
              "      }\n",
              "    </script>\n",
              "  </div>\n",
              "\n",
              "\n",
              "<div id=\"df-c5297acb-e4c2-4e03-97cb-f3969661ce94\">\n",
              "  <button class=\"colab-df-quickchart\" onclick=\"quickchart('df-c5297acb-e4c2-4e03-97cb-f3969661ce94')\"\n",
              "            title=\"Suggest charts\"\n",
              "            style=\"display:none;\">\n",
              "\n",
              "<svg xmlns=\"http://www.w3.org/2000/svg\" height=\"24px\"viewBox=\"0 0 24 24\"\n",
              "     width=\"24px\">\n",
              "    <g>\n",
              "        <path d=\"M19 3H5c-1.1 0-2 .9-2 2v14c0 1.1.9 2 2 2h14c1.1 0 2-.9 2-2V5c0-1.1-.9-2-2-2zM9 17H7v-7h2v7zm4 0h-2V7h2v10zm4 0h-2v-4h2v4z\"/>\n",
              "    </g>\n",
              "</svg>\n",
              "  </button>\n",
              "\n",
              "<style>\n",
              "  .colab-df-quickchart {\n",
              "      --bg-color: #E8F0FE;\n",
              "      --fill-color: #1967D2;\n",
              "      --hover-bg-color: #E2EBFA;\n",
              "      --hover-fill-color: #174EA6;\n",
              "      --disabled-fill-color: #AAA;\n",
              "      --disabled-bg-color: #DDD;\n",
              "  }\n",
              "\n",
              "  [theme=dark] .colab-df-quickchart {\n",
              "      --bg-color: #3B4455;\n",
              "      --fill-color: #D2E3FC;\n",
              "      --hover-bg-color: #434B5C;\n",
              "      --hover-fill-color: #FFFFFF;\n",
              "      --disabled-bg-color: #3B4455;\n",
              "      --disabled-fill-color: #666;\n",
              "  }\n",
              "\n",
              "  .colab-df-quickchart {\n",
              "    background-color: var(--bg-color);\n",
              "    border: none;\n",
              "    border-radius: 50%;\n",
              "    cursor: pointer;\n",
              "    display: none;\n",
              "    fill: var(--fill-color);\n",
              "    height: 32px;\n",
              "    padding: 0;\n",
              "    width: 32px;\n",
              "  }\n",
              "\n",
              "  .colab-df-quickchart:hover {\n",
              "    background-color: var(--hover-bg-color);\n",
              "    box-shadow: 0 1px 2px rgba(60, 64, 67, 0.3), 0 1px 3px 1px rgba(60, 64, 67, 0.15);\n",
              "    fill: var(--button-hover-fill-color);\n",
              "  }\n",
              "\n",
              "  .colab-df-quickchart-complete:disabled,\n",
              "  .colab-df-quickchart-complete:disabled:hover {\n",
              "    background-color: var(--disabled-bg-color);\n",
              "    fill: var(--disabled-fill-color);\n",
              "    box-shadow: none;\n",
              "  }\n",
              "\n",
              "  .colab-df-spinner {\n",
              "    border: 2px solid var(--fill-color);\n",
              "    border-color: transparent;\n",
              "    border-bottom-color: var(--fill-color);\n",
              "    animation:\n",
              "      spin 1s steps(1) infinite;\n",
              "  }\n",
              "\n",
              "  @keyframes spin {\n",
              "    0% {\n",
              "      border-color: transparent;\n",
              "      border-bottom-color: var(--fill-color);\n",
              "      border-left-color: var(--fill-color);\n",
              "    }\n",
              "    20% {\n",
              "      border-color: transparent;\n",
              "      border-left-color: var(--fill-color);\n",
              "      border-top-color: var(--fill-color);\n",
              "    }\n",
              "    30% {\n",
              "      border-color: transparent;\n",
              "      border-left-color: var(--fill-color);\n",
              "      border-top-color: var(--fill-color);\n",
              "      border-right-color: var(--fill-color);\n",
              "    }\n",
              "    40% {\n",
              "      border-color: transparent;\n",
              "      border-right-color: var(--fill-color);\n",
              "      border-top-color: var(--fill-color);\n",
              "    }\n",
              "    60% {\n",
              "      border-color: transparent;\n",
              "      border-right-color: var(--fill-color);\n",
              "    }\n",
              "    80% {\n",
              "      border-color: transparent;\n",
              "      border-right-color: var(--fill-color);\n",
              "      border-bottom-color: var(--fill-color);\n",
              "    }\n",
              "    90% {\n",
              "      border-color: transparent;\n",
              "      border-bottom-color: var(--fill-color);\n",
              "    }\n",
              "  }\n",
              "</style>\n",
              "\n",
              "  <script>\n",
              "    async function quickchart(key) {\n",
              "      const quickchartButtonEl =\n",
              "        document.querySelector('#' + key + ' button');\n",
              "      quickchartButtonEl.disabled = true;  // To prevent multiple clicks.\n",
              "      quickchartButtonEl.classList.add('colab-df-spinner');\n",
              "      try {\n",
              "        const charts = await google.colab.kernel.invokeFunction(\n",
              "            'suggestCharts', [key], {});\n",
              "      } catch (error) {\n",
              "        console.error('Error during call to suggestCharts:', error);\n",
              "      }\n",
              "      quickchartButtonEl.classList.remove('colab-df-spinner');\n",
              "      quickchartButtonEl.classList.add('colab-df-quickchart-complete');\n",
              "    }\n",
              "    (() => {\n",
              "      let quickchartButtonEl =\n",
              "        document.querySelector('#df-c5297acb-e4c2-4e03-97cb-f3969661ce94 button');\n",
              "      quickchartButtonEl.style.display =\n",
              "        google.colab.kernel.accessAllowed ? 'block' : 'none';\n",
              "    })();\n",
              "  </script>\n",
              "</div>\n",
              "\n",
              "  <div id=\"id_3935dd13-b2e5-41d5-8f13-a0f0931ee239\">\n",
              "    <style>\n",
              "      .colab-df-generate {\n",
              "        background-color: #E8F0FE;\n",
              "        border: none;\n",
              "        border-radius: 50%;\n",
              "        cursor: pointer;\n",
              "        display: none;\n",
              "        fill: #1967D2;\n",
              "        height: 32px;\n",
              "        padding: 0 0 0 0;\n",
              "        width: 32px;\n",
              "      }\n",
              "\n",
              "      .colab-df-generate:hover {\n",
              "        background-color: #E2EBFA;\n",
              "        box-shadow: 0px 1px 2px rgba(60, 64, 67, 0.3), 0px 1px 3px 1px rgba(60, 64, 67, 0.15);\n",
              "        fill: #174EA6;\n",
              "      }\n",
              "\n",
              "      [theme=dark] .colab-df-generate {\n",
              "        background-color: #3B4455;\n",
              "        fill: #D2E3FC;\n",
              "      }\n",
              "\n",
              "      [theme=dark] .colab-df-generate:hover {\n",
              "        background-color: #434B5C;\n",
              "        box-shadow: 0px 1px 3px 1px rgba(0, 0, 0, 0.15);\n",
              "        filter: drop-shadow(0px 1px 2px rgba(0, 0, 0, 0.3));\n",
              "        fill: #FFFFFF;\n",
              "      }\n",
              "    </style>\n",
              "    <button class=\"colab-df-generate\" onclick=\"generateWithVariable('coeff_determination')\"\n",
              "            title=\"Generate code using this dataframe.\"\n",
              "            style=\"display:none;\">\n",
              "\n",
              "  <svg xmlns=\"http://www.w3.org/2000/svg\" height=\"24px\"viewBox=\"0 0 24 24\"\n",
              "       width=\"24px\">\n",
              "    <path d=\"M7,19H8.4L18.45,9,17,7.55,7,17.6ZM5,21V16.75L18.45,3.32a2,2,0,0,1,2.83,0l1.4,1.43a1.91,1.91,0,0,1,.58,1.4,1.91,1.91,0,0,1-.58,1.4L9.25,21ZM18.45,9,17,7.55Zm-12,3A5.31,5.31,0,0,0,4.9,8.1,5.31,5.31,0,0,0,1,6.5,5.31,5.31,0,0,0,4.9,4.9,5.31,5.31,0,0,0,6.5,1,5.31,5.31,0,0,0,8.1,4.9,5.31,5.31,0,0,0,12,6.5,5.46,5.46,0,0,0,6.5,12Z\"/>\n",
              "  </svg>\n",
              "    </button>\n",
              "    <script>\n",
              "      (() => {\n",
              "      const buttonEl =\n",
              "        document.querySelector('#id_3935dd13-b2e5-41d5-8f13-a0f0931ee239 button.colab-df-generate');\n",
              "      buttonEl.style.display =\n",
              "        google.colab.kernel.accessAllowed ? 'block' : 'none';\n",
              "\n",
              "      buttonEl.onclick = () => {\n",
              "        google.colab.notebook.generateWithVariable('coeff_determination');\n",
              "      }\n",
              "      })();\n",
              "    </script>\n",
              "  </div>\n",
              "\n",
              "    </div>\n",
              "  </div>\n"
            ],
            "application/vnd.google.colaboratory.intrinsic+json": {
              "type": "dataframe",
              "variable_name": "coeff_determination",
              "summary": "{\n  \"name\": \"coeff_determination\",\n  \"rows\": 2,\n  \"fields\": [\n    {\n      \"column\": \"x\",\n      \"properties\": {\n        \"dtype\": \"number\",\n        \"std\": 0.05871027719716367,\n        \"min\": 0.9169711297370873,\n        \"max\": 1.0,\n        \"num_unique_values\": 2,\n        \"samples\": [\n          0.9169711297370873,\n          1.0\n        ],\n        \"semantic_type\": \"\",\n        \"description\": \"\"\n      }\n    },\n    {\n      \"column\": \"y\",\n      \"properties\": {\n        \"dtype\": \"number\",\n        \"std\": 0.05871027719716367,\n        \"min\": 0.9169711297370873,\n        \"max\": 1.0,\n        \"num_unique_values\": 2,\n        \"samples\": [\n          1.0,\n          0.9169711297370873\n        ],\n        \"semantic_type\": \"\",\n        \"description\": \"\"\n      }\n    }\n  ]\n}"
            }
          },
          "metadata": {},
          "execution_count": 16
        }
      ],
      "source": [
        "import pandas as pd\n",
        "\n",
        "# データをPandasのデータフレームとして読み込む\n",
        "df = pd.read_csv('https://bit.ly/2KF29Bd', delimiter=\",\")\n",
        "\n",
        "# 変数間の相関係数を求め、二乗して表示する\n",
        "coeff_determination = df.corr(method='pearson') ** 2\n",
        "coeff_determination"
      ]
    },
    {
      "cell_type": "markdown",
      "source": [
        "例5-19 推定標準誤差を求める例"
      ],
      "metadata": {
        "id": "2sfSVQv-7Ks-"
      }
    },
    {
      "cell_type": "code",
      "execution_count": null,
      "metadata": {
        "colab": {
          "base_uri": "https://localhost:8080/"
        },
        "id": "krg901JM7Gq_",
        "outputId": "a30f421e-f995-4b46-f456-3b8005be0b32"
      },
      "outputs": [
        {
          "output_type": "stream",
          "name": "stdout",
          "text": [
            "1.87406793500129\n"
          ]
        }
      ],
      "source": [
        "import pandas as pd\n",
        "from math import sqrt\n",
        "\n",
        "# データを読み込む\n",
        "points = list(pd.read_csv('https://bit.ly/2KF29Bd', delimiter=\",\").itertuples())\n",
        "\n",
        "n = len(points)\n",
        "\n",
        "# 回帰直線の値を定義する\n",
        "m = 1.939\n",
        "b = 4.733\n",
        "\n",
        "# 推定標準誤差を求める\n",
        "S_e = sqrt((sum((p.y - (m*p.x +b))**2 for p in points))/(n-2))\n",
        "\n",
        "print(S_e)"
      ]
    },
    {
      "cell_type": "markdown",
      "source": [
        "例5-20 8.5歳の犬に対する動物病院への通院回数の予測区間を求める例"
      ],
      "metadata": {
        "id": "Zooc7gha7ZY0"
      }
    },
    {
      "cell_type": "code",
      "execution_count": null,
      "metadata": {
        "colab": {
          "base_uri": "https://localhost:8080/"
        },
        "id": "JGJSa0037W0p",
        "outputId": "64cb98a8-702f-4c04-9f05-eb7a7058e629"
      },
      "outputs": [
        {
          "output_type": "stream",
          "name": "stdout",
          "text": [
            "16.46251687560351 25.966483124396493\n"
          ]
        }
      ],
      "source": [
        "import pandas as pd\n",
        "from scipy.stats import t\n",
        "from math import sqrt\n",
        "\n",
        "# データを読み込む\n",
        "points = list(pd.read_csv('https://bit.ly/2KF29Bd', delimiter=\",\").itertuples())\n",
        "\n",
        "n = len(points)\n",
        "\n",
        "# 線形回帰直線\n",
        "m = 1.939\n",
        "b = 4.733\n",
        "\n",
        "# x = 8.5に対する予測区間を求める\n",
        "x_0 = 8.5\n",
        "x_mean = sum(p.x for p in points) / len(points)\n",
        "\n",
        "t_value = t(n - 2).ppf(0.975)\n",
        "\n",
        "standard_error = sqrt(sum((p.y - (m * p.x + b)) ** 2 for p in points) / (n - 2))\n",
        "\n",
        "margin_of_error = t_value * standard_error * \\\n",
        "                  sqrt(1 + (1 / n) + (n * (x_0 - x_mean) ** 2) / \\\n",
        "                       (n * sum(p.x ** 2 for p in points) - \\\n",
        "                            sum(p.x for p in points) ** 2))\n",
        "\n",
        "predicted_y = m*x_0 + b\n",
        "\n",
        "# 予測区間の計算\n",
        "print(predicted_y - margin_of_error, predicted_y + margin_of_error)"
      ]
    },
    {
      "cell_type": "markdown",
      "source": [
        "例5-21 線形回帰のデータを訓練用データとテスト用データに分割する例"
      ],
      "metadata": {
        "id": "SJlg9vZb7_jD"
      }
    },
    {
      "cell_type": "code",
      "execution_count": null,
      "metadata": {
        "colab": {
          "base_uri": "https://localhost:8080/"
        },
        "id": "jqHGLnjS73qL",
        "outputId": "c5c69c2d-ab16-4b00-933c-4770067f531f"
      },
      "outputs": [
        {
          "output_type": "stream",
          "name": "stdout",
          "text": [
            "r^2: 0.993\n"
          ]
        }
      ],
      "source": [
        "import pandas as pd\n",
        "from sklearn.linear_model import LinearRegression\n",
        "from sklearn.model_selection import train_test_split\n",
        "\n",
        "# データを読み込む\n",
        "df = pd.read_csv('https://bit.ly/3cIH97A', delimiter=\",\")\n",
        "\n",
        "# 入力変数（すべての行、最終列を除くすべての列）を抽出する\n",
        "X = df.values[:, :-1]\n",
        "\n",
        "# 出力列（すべての行、最終列）を抽出する\n",
        "Y = df.values[:, -1]\n",
        "\n",
        "# 訓練用とテスト用にデータを分割する\n",
        "# これによりデータの1/3がテスト用になる\n",
        "X_train, X_test, Y_train, Y_test = train_test_split(X, Y, test_size=1/3)\n",
        "\n",
        "model = LinearRegression()\n",
        "model.fit(X_train, Y_train)\n",
        "result = model.score(X_test, Y_test)\n",
        "print(\"r^2: %.3f\" % result)"
      ]
    },
    {
      "cell_type": "markdown",
      "source": [
        "例5-22 線形回帰に対して三分割の交差検証を適用する例"
      ],
      "metadata": {
        "id": "-IPxWIYy8Ucs"
      }
    },
    {
      "cell_type": "code",
      "execution_count": null,
      "metadata": {
        "colab": {
          "base_uri": "https://localhost:8080/"
        },
        "id": "SnDNB4Sp8QBl",
        "outputId": "99983229-b969-4f9d-dfe4-e56f8a800cd8"
      },
      "outputs": [
        {
          "output_type": "stream",
          "name": "stdout",
          "text": [
            "[0.99337354 0.99345032 0.99251425]\n",
            "MSE: mean=0.993 (stdev-0.000)\n"
          ]
        }
      ],
      "source": [
        "import pandas as pd\n",
        "from sklearn.linear_model import LinearRegression\n",
        "from sklearn.model_selection import KFold, cross_val_score\n",
        "\n",
        "df = pd.read_csv('https://bit.ly/3cIH97A', delimiter=\",\")\n",
        "\n",
        "# 入力変数（すべての行、最終列を除くすべての列）を抽出する\n",
        "X = df.values[:, :-1]\n",
        "\n",
        "# 出力列（すべての行、最終列）を抽出する\n",
        "Y = df.values[:, -1]\n",
        "\n",
        "# 単純な線形回帰（単回帰）を実行する\n",
        "kfold = KFold(n_splits=3, random_state=7, shuffle=True)\n",
        "model = LinearRegression()\n",
        "results = cross_val_score(model, X, Y, cv=kfold)\n",
        "print(results)\n",
        "print(\"MSE: mean=%.3f (stdev-%.3f)\" % (results.mean(), results.std()))"
      ]
    },
    {
      "cell_type": "markdown",
      "source": [
        "例5-23 線形回帰にランダムフォールド検証を使う例"
      ],
      "metadata": {
        "id": "Kha8yV-m8w6S"
      }
    },
    {
      "cell_type": "code",
      "execution_count": null,
      "metadata": {
        "id": "byoH0qRk8wTb",
        "outputId": "9e9a827d-7f08-48e5-bc26-cddc2046acde",
        "colab": {
          "base_uri": "https://localhost:8080/"
        }
      },
      "outputs": [
        {
          "output_type": "stream",
          "name": "stdout",
          "text": [
            "[0.82514286 0.23552344 0.92653455 0.91620594 0.73260142 0.8698865\n",
            " 0.55254014 0.89593526 0.91570078 0.82086621]\n",
            "mean=0.769 (stdev-0.208)\n"
          ]
        }
      ],
      "source": [
        "import pandas as pd\n",
        "from sklearn.linear_model import LinearRegression\n",
        "from sklearn.model_selection import cross_val_score, ShuffleSplit\n",
        "\n",
        "df = pd.read_csv('https://bit.ly/38XwbeB', delimiter=\",\")\n",
        "\n",
        "# 入力変数（すべての行、最終列を除くすべての列）を抽出する\n",
        "X = df.values[:, :-1]\n",
        "\n",
        "# 出力列（すべての行、最終列）を抽出する\n",
        "Y = df.values[:, -1]\n",
        "\n",
        "# 単純な線形回帰（単回帰）を実行する\n",
        "kfold = ShuffleSplit(n_splits=10, test_size=0.33, random_state=7)\n",
        "model = LinearRegression()\n",
        "results = cross_val_score(model, X, Y, cv=kfold)\n",
        "\n",
        "print(results)\n",
        "print(\"mean=%.3f (stdev-%.3f)\" % (results.mean(), results.std()))"
      ]
    },
    {
      "cell_type": "markdown",
      "source": [
        "例5-24 ふたつの入力変数がある線形回帰の例"
      ],
      "metadata": {
        "id": "XDz6-grb9IDw"
      }
    },
    {
      "cell_type": "code",
      "execution_count": null,
      "metadata": {
        "colab": {
          "base_uri": "https://localhost:8080/"
        },
        "id": "iGgEZCa98_DC",
        "outputId": "87170f7b-d131-4336-d1dc-4fd8d813229a"
      },
      "outputs": [
        {
          "output_type": "stream",
          "name": "stdout",
          "text": [
            "Coefficients = [2.00672647 3.00203798]\n",
            "Intercept = 20.109432820035963\n",
            "z = 20.109432820035963 + 2.006726472512807x + 3.0020379766466925y\n"
          ]
        }
      ],
      "source": [
        "import pandas as pd\n",
        "from sklearn.linear_model import LinearRegression\n",
        "\n",
        "# データを読み込む\n",
        "df = pd.read_csv('https://bit.ly/2X1HWH7', delimiter=\",\")\n",
        "\n",
        "# 入力変数（すべての行、最終列を除くすべての列）を抽出する\n",
        "X = df.values[:, :-1]\n",
        "\n",
        "# 出力列（すべての行、最終列）を抽出する\n",
        "Y = df.values[:, -1]\n",
        "\n",
        "# 訓練する\n",
        "fit = LinearRegression().fit(X, Y)\n",
        "\n",
        "# 相関を表示する\n",
        "print(\"Coefficients = {0}\".format(fit.coef_))\n",
        "print(\"Intercept = {0}\".format(fit.intercept_))\n",
        "print(\"z = {0} + {1}x + {2}y\".format(fit.intercept_, fit.coef_[0], fit.coef_[1]))"
      ]
    },
    {
      "cell_type": "markdown",
      "source": [],
      "metadata": {
        "id": "BFEqeEuA9ApP"
      }
    }
  ]
}